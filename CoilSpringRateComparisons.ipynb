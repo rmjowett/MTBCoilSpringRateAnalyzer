{
 "cells": [
  {
   "cell_type": "code",
   "execution_count": 1,
   "metadata": {},
   "outputs": [],
   "source": [
    "%matplotlib inline\n",
    "import matplotlib\n",
    "import numpy as np\n",
    "import matplotlib.pyplot as plt\n",
    "import pandas as pd\n",
    "import seaborn as sns\n",
    "from datetime import datetime\n",
    "from time import time\n",
    "from datetime import timedelta\n",
    "import mercury as mr \n",
    "import warnings\n",
    "import altair as alt\n",
    "warnings.filterwarnings('ignore')"
   ]
  },
  {
   "cell_type": "code",
   "execution_count": 2,
   "metadata": {},
   "outputs": [
    {
     "data": {
      "application/mercury+json": "{\n    \"widget\": \"App\",\n    \"title\": \"Coil Spring rate Comparisons\",\n    \"description\": \"\",\n    \"show_code\": false,\n    \"show_prompt\": false,\n    \"output\": \"app\",\n    \"schedule\": \"\",\n    \"notify\": \"{}\",\n    \"continuous_update\": true,\n    \"static_notebook\": false,\n    \"show_sidebar\": true,\n    \"full_screen\": true,\n    \"allow_download\": true,\n    \"model_id\": \"mercury-app\",\n    \"code_uid\": \"App.0.40.24.1-randcb47ba93\"\n}",
      "text/html": [
       "<h3>Mercury Application</h3><small>This output won't appear in the web app.</small>"
      ],
      "text/plain": [
       "mercury.App"
      ]
     },
     "metadata": {},
     "output_type": "display_data"
    }
   ],
   "source": [
    "app = mr.App(title=\"Coil Spring rate Comparisons\")"
   ]
  },
  {
   "cell_type": "markdown",
   "metadata": {},
   "source": [
    "<font size=\"7\">Setup analyzer: Uncover your ideal configuration</font>\n",
    "\n",
    "<font size=\"2\">To use: enter your details on the left and change the spring rate until you find an appropriate spring for your mountain bike, travel and weight</font>\n",
    "\n",
    "<font size=\"2\">Credit: Rowland Jowett for the original very useful prototype.\n"
   ]
  },
  {
   "cell_type": "code",
   "execution_count": 23,
   "metadata": {},
   "outputs": [
    {
     "data": {
      "application/mercury+json": "{\n    \"widget\": \"Select\",\n    \"value\": \"Enduro\",\n    \"choices\": [\n        \"Enduro\",\n        \"DH\"\n    ],\n    \"label\": \"Discipline\",\n    \"model_id\": \"b559e894eb7841c881110909818bb26b\",\n    \"code_uid\": \"Select.0.40.16.12-randb0334765\",\n    \"url_key\": \"\",\n    \"disabled\": false,\n    \"hidden\": false\n}",
      "application/vnd.jupyter.widget-view+json": {
       "model_id": "b559e894eb7841c881110909818bb26b",
       "version_major": 2,
       "version_minor": 0
      },
      "text/plain": [
       "mercury.Select"
      ]
     },
     "metadata": {},
     "output_type": "display_data"
    },
    {
     "data": {
      "application/mercury+json": "{\n    \"widget\": \"Slider\",\n    \"value\": 63,\n    \"min\": 20,\n    \"max\": 100,\n    \"step\": 1,\n    \"label\": \"Rear shock stroke (mm)\",\n    \"model_id\": \"f0cad897fd7b4eeeb66c1fbc9d5493a6\",\n    \"code_uid\": \"Slider.0.40.26.13-rand39fd25c6\",\n    \"url_key\": \"\",\n    \"disabled\": false,\n    \"hidden\": false\n}",
      "application/vnd.jupyter.widget-view+json": {
       "model_id": "f0cad897fd7b4eeeb66c1fbc9d5493a6",
       "version_major": 2,
       "version_minor": 0
      },
      "text/plain": [
       "mercury.Slider"
      ]
     },
     "metadata": {},
     "output_type": "display_data"
    },
    {
     "data": {
      "application/mercury+json": "{\n    \"widget\": \"Slider\",\n    \"value\": 160,\n    \"min\": 100,\n    \"max\": 250,\n    \"step\": 5,\n    \"label\": \"Rear wheel vertical travel (mm)\",\n    \"model_id\": \"30505457d26f4c97813f790986a2fef8\",\n    \"code_uid\": \"Slider.0.40.26.14-rand47d67b79\",\n    \"url_key\": \"\",\n    \"disabled\": false,\n    \"hidden\": false\n}",
      "application/vnd.jupyter.widget-view+json": {
       "model_id": "30505457d26f4c97813f790986a2fef8",
       "version_major": 2,
       "version_minor": 0
      },
      "text/plain": [
       "mercury.Slider"
      ]
     },
     "metadata": {},
     "output_type": "display_data"
    },
    {
     "data": {
      "application/mercury+json": "{\n    \"widget\": \"Slider\",\n    \"value\": 80,\n    \"min\": 20,\n    \"max\": 200,\n    \"step\": 1,\n    \"label\": \"Rider weight (Kg)\",\n    \"model_id\": \"457bbd5235ad4b6e87384b4565c2dfb4\",\n    \"code_uid\": \"Slider.0.40.26.15-rand6c17708f\",\n    \"url_key\": \"\",\n    \"disabled\": false,\n    \"hidden\": false\n}",
      "application/vnd.jupyter.widget-view+json": {
       "model_id": "457bbd5235ad4b6e87384b4565c2dfb4",
       "version_major": 2,
       "version_minor": 0
      },
      "text/plain": [
       "mercury.Slider"
      ]
     },
     "metadata": {},
     "output_type": "display_data"
    },
    {
     "data": {
      "application/mercury+json": "{\n    \"widget\": \"Slider\",\n    \"value\": 434,\n    \"min\": 200,\n    \"max\": 800,\n    \"step\": 5,\n    \"label\": \"Spring_rate lbs/in\",\n    \"model_id\": \"f0c10006879c44d69b45f3e9b708c6ad\",\n    \"code_uid\": \"Slider.0.40.26.16-randddd75a2a\",\n    \"url_key\": \"\",\n    \"disabled\": false,\n    \"hidden\": false\n}",
      "application/vnd.jupyter.widget-view+json": {
       "model_id": "f0c10006879c44d69b45f3e9b708c6ad",
       "version_major": 2,
       "version_minor": 0
      },
      "text/plain": [
       "mercury.Slider"
      ]
     },
     "metadata": {},
     "output_type": "display_data"
    },
    {
     "data": {
      "application/mercury+json": "{\n    \"widget\": \"Slider\",\n    \"value\": 5,\n    \"min\": 1,\n    \"max\": 10,\n    \"step\": 1,\n    \"label\": \"Rider speed, Mens WCDH = 10\",\n    \"model_id\": \"29da527de7d547f6b68cfdf8c64c4429\",\n    \"code_uid\": \"Slider.0.40.26.17-randfb3da06b\",\n    \"url_key\": \"\",\n    \"disabled\": false,\n    \"hidden\": false\n}",
      "application/vnd.jupyter.widget-view+json": {
       "model_id": "29da527de7d547f6b68cfdf8c64c4429",
       "version_major": 2,
       "version_minor": 0
      },
      "text/plain": [
       "mercury.Slider"
      ]
     },
     "metadata": {},
     "output_type": "display_data"
    },
    {
     "data": {
      "application/mercury+json": "{\n    \"widget\": \"Text\",\n    \"value\": \"Jane Doe\",\n    \"rows\": 1,\n    \"label\": \"Name\",\n    \"model_id\": \"e7ba2241ce3a41ba90a86259c68a47e0\",\n    \"code_uid\": \"Text.0.40.15.18-rand8977796a\",\n    \"url_key\": \"\",\n    \"disabled\": false,\n    \"hidden\": false\n}",
      "application/vnd.jupyter.widget-view+json": {
       "model_id": "e7ba2241ce3a41ba90a86259c68a47e0",
       "version_major": 2,
       "version_minor": 0
      },
      "text/plain": [
       "mercury.Text"
      ]
     },
     "metadata": {},
     "output_type": "display_data"
    },
    {
     "data": {
      "text/html": [
       "\n",
       "<style>\n",
       "  #altair-viz-e93d0c3e707844e6a7133c570c9ceaee.vega-embed {\n",
       "    width: 100%;\n",
       "    display: flex;\n",
       "  }\n",
       "\n",
       "  #altair-viz-e93d0c3e707844e6a7133c570c9ceaee.vega-embed details,\n",
       "  #altair-viz-e93d0c3e707844e6a7133c570c9ceaee.vega-embed details summary {\n",
       "    position: relative;\n",
       "  }\n",
       "</style>\n",
       "<div id=\"altair-viz-e93d0c3e707844e6a7133c570c9ceaee\"></div>\n",
       "<script type=\"text/javascript\">\n",
       "  var VEGA_DEBUG = (typeof VEGA_DEBUG == \"undefined\") ? {} : VEGA_DEBUG;\n",
       "  (function(spec, embedOpt){\n",
       "    let outputDiv = document.currentScript.previousElementSibling;\n",
       "    if (outputDiv.id !== \"altair-viz-e93d0c3e707844e6a7133c570c9ceaee\") {\n",
       "      outputDiv = document.getElementById(\"altair-viz-e93d0c3e707844e6a7133c570c9ceaee\");\n",
       "    }\n",
       "    const paths = {\n",
       "      \"vega\": \"https://cdn.jsdelivr.net/npm/vega@5?noext\",\n",
       "      \"vega-lib\": \"https://cdn.jsdelivr.net/npm/vega-lib?noext\",\n",
       "      \"vega-lite\": \"https://cdn.jsdelivr.net/npm/vega-lite@5.8.0?noext\",\n",
       "      \"vega-embed\": \"https://cdn.jsdelivr.net/npm/vega-embed@6?noext\",\n",
       "    };\n",
       "\n",
       "    function maybeLoadScript(lib, version) {\n",
       "      var key = `${lib.replace(\"-\", \"\")}_version`;\n",
       "      return (VEGA_DEBUG[key] == version) ?\n",
       "        Promise.resolve(paths[lib]) :\n",
       "        new Promise(function(resolve, reject) {\n",
       "          var s = document.createElement('script');\n",
       "          document.getElementsByTagName(\"head\")[0].appendChild(s);\n",
       "          s.async = true;\n",
       "          s.onload = () => {\n",
       "            VEGA_DEBUG[key] = version;\n",
       "            return resolve(paths[lib]);\n",
       "          };\n",
       "          s.onerror = () => reject(`Error loading script: ${paths[lib]}`);\n",
       "          s.src = paths[lib];\n",
       "        });\n",
       "    }\n",
       "\n",
       "    function showError(err) {\n",
       "      outputDiv.innerHTML = `<div class=\"error\" style=\"color:red;\">${err}</div>`;\n",
       "      throw err;\n",
       "    }\n",
       "\n",
       "    function displayChart(vegaEmbed) {\n",
       "      vegaEmbed(outputDiv, spec, embedOpt)\n",
       "        .catch(err => showError(`Javascript Error: ${err.message}<br>This usually means there's a typo in your chart specification. See the javascript console for the full traceback.`));\n",
       "    }\n",
       "\n",
       "    if(typeof define === \"function\" && define.amd) {\n",
       "      requirejs.config({paths});\n",
       "      require([\"vega-embed\"], displayChart, err => showError(`Error loading script: ${err.message}`));\n",
       "    } else {\n",
       "      maybeLoadScript(\"vega\", \"5\")\n",
       "        .then(() => maybeLoadScript(\"vega-lite\", \"5.8.0\"))\n",
       "        .then(() => maybeLoadScript(\"vega-embed\", \"6\"))\n",
       "        .catch(showError)\n",
       "        .then(() => displayChart(vegaEmbed));\n",
       "    }\n",
       "  })({\"config\": {\"view\": {\"continuousWidth\": 300, \"continuousHeight\": 300}}, \"layer\": [{\"data\": {\"name\": \"data-33da925a729150d4707bd687ea9fd64e\"}, \"mark\": {\"type\": \"circle\"}, \"encoding\": {\"color\": {\"field\": \"Discipline\", \"type\": \"nominal\"}, \"tooltip\": [{\"field\": \"Name\", \"type\": \"nominal\"}, {\"field\": \"Weight\", \"type\": \"quantitative\"}, {\"field\": \"Spring_rate\", \"type\": \"quantitative\"}, {\"field\": \"Speed_rating\", \"type\": \"quantitative\"}, {\"field\": \"Discipline\", \"type\": \"nominal\"}], \"x\": {\"axis\": {\"title\": \"Travel_\"}, \"field\": \"Travel\", \"scale\": {\"zero\": false}, \"type\": \"quantitative\"}, \"y\": {\"axis\": {\"title\": \"Spring_rate_at_wheel_normalised_75kg_\"}, \"field\": \"Spring_rate_at_wheel_normalised_75kg\", \"scale\": {\"zero\": false}, \"type\": \"quantitative\"}}, \"name\": \"view_19\", \"title\": \"Normalised Rider Weight Spring Rate vs Bike Max Travel\"}, {\"data\": {\"name\": \"data-1b35a5c60130d7d671f3e8441eaffa5a\"}, \"mark\": {\"type\": \"circle\"}, \"encoding\": {\"color\": {\"field\": \"Discipline\", \"type\": \"nominal\"}, \"size\": {\"value\": 200}, \"tooltip\": [{\"field\": \"Name\", \"type\": \"nominal\"}, {\"field\": \"Weight\", \"type\": \"quantitative\"}, {\"field\": \"Spring_rate\", \"type\": \"quantitative\"}, {\"field\": \"Speed_rating\", \"type\": \"quantitative\"}, {\"field\": \"Discipline\", \"type\": \"nominal\"}], \"x\": {\"axis\": {\"title\": \"Travel_\"}, \"field\": \"Travel\", \"scale\": {\"zero\": false}, \"type\": \"quantitative\"}, \"y\": {\"axis\": {\"title\": \"Spring_rate_at_wheel_normalised_75kg_\"}, \"field\": \"Spring_rate_at_wheel_normalised_75kg\", \"scale\": {\"zero\": false}, \"type\": \"quantitative\"}}, \"title\": \"Normalised Rider Weight Spring Rate vs Bike Max Travel\"}, {\"data\": {\"name\": \"data-33da925a729150d4707bd687ea9fd64e\"}, \"mark\": {\"type\": \"line\", \"opacity\": 0.5, \"shape\": \"mark\"}, \"encoding\": {\"color\": {\"field\": \"Regression\", \"type\": \"nominal\"}, \"tooltip\": [{\"field\": \"Name\", \"type\": \"nominal\"}, {\"field\": \"Weight\", \"type\": \"quantitative\"}, {\"field\": \"Spring_rate\", \"type\": \"quantitative\"}, {\"field\": \"Speed_rating\", \"type\": \"quantitative\"}, {\"field\": \"Discipline\", \"type\": \"nominal\"}], \"x\": {\"axis\": {\"title\": \"Travel_\"}, \"field\": \"Travel\", \"scale\": {\"zero\": false}, \"type\": \"quantitative\"}, \"y\": {\"axis\": {\"title\": \"Spring_rate_at_wheel_normalised_75kg_\"}, \"field\": \"Spring_rate_at_wheel_normalised_75kg\", \"scale\": {\"zero\": false}, \"type\": \"quantitative\"}}, \"transform\": [{\"on\": \"Travel\", \"regression\": \"Spring_rate_at_wheel_normalised_75kg\"}, {\"fold\": [\"best fit line\"], \"as\": [\"Regression\", \"y\"]}]}, {\"data\": {\"name\": \"data-9eca739eae8d842e0718247e0390b35b\"}, \"mark\": {\"type\": \"text\", \"align\": \"left\", \"baseline\": \"middle\", \"dx\": 4}, \"encoding\": {\"text\": {\"field\": \"LabelX\", \"type\": \"nominal\"}, \"x\": {\"field\": \"Travel\", \"scale\": {\"zero\": false}, \"type\": \"quantitative\"}, \"y\": {\"field\": \"Spring_rate_at_wheel_normalised_75kg\", \"scale\": {\"zero\": false}, \"type\": \"quantitative\"}}}], \"params\": [{\"name\": \"param_33\", \"select\": {\"type\": \"interval\", \"encodings\": [\"x\", \"y\"]}, \"bind\": \"scales\", \"views\": [\"view_19\"]}], \"width\": \"container\", \"$schema\": \"https://vega.github.io/schema/vega-lite/v5.8.0.json\", \"datasets\": {\"data-33da925a729150d4707bd687ea9fd64e\": [{\"Name\": \"Matt Radon\", \"Discipline\": \"DH\", \"Stroke\": 76.0, \"Travel\": 200, \"Spring_rate\": 450, \"Weight\": 72, \"Speed_rating\": 6, \"Motion_ratio\": 2.6315789473684212, \"Spring_rate_at_wheel\": 64.97999999999999, \"Spring_rate_at_wheel_normalised_75kg\": 67.68749999999999, \"Energy_at_max_travel\": 1576.1415150000005, \"Huck_height_(m)\": 3.719139377336053, \"LabelX\": \"Matt Radon 450lbs/in\", \"plot_point_size\": 2}, {\"Name\": \"Matt Dissent\", \"Discipline\": \"DH\", \"Stroke\": 70.0, \"Travel\": 190, \"Spring_rate\": 450, \"Weight\": 72, \"Speed_rating\": 6, \"Motion_ratio\": 2.7142857142857144, \"Spring_rate_at_wheel\": 61.08033240997229, \"Spring_rate_at_wheel_normalised_75kg\": 63.6253462603878, \"Energy_at_max_travel\": 1422.4677172875001, \"Huck_height_(m)\": 3.3565232880457874, \"LabelX\": \"Matt Dissent 450lbs/in\", \"plot_point_size\": 2}, {\"Name\": \"Matt Dissent\", \"Discipline\": \"DH\", \"Stroke\": 70.0, \"Travel\": 190, \"Spring_rate\": 500, \"Weight\": 72, \"Speed_rating\": 6, \"Motion_ratio\": 2.7142857142857144, \"Spring_rate_at_wheel\": 67.86703601108033, \"Spring_rate_at_wheel_normalised_75kg\": 70.69482917820868, \"Energy_at_max_travel\": 1580.5196858749998, \"Huck_height_(m)\": 3.729470320050874, \"LabelX\": \"Matt Dissent 500lbs/in\", \"plot_point_size\": 2}, {\"Name\": \"John Sender\", \"Discipline\": \"DH\", \"Stroke\": 75.0, \"Travel\": 200, \"Spring_rate\": 400, \"Weight\": 75, \"Speed_rating\": 6, \"Motion_ratio\": 2.6666666666666665, \"Spring_rate_at_wheel\": 56.25, \"Spring_rate_at_wheel_normalised_75kg\": 56.25, \"Energy_at_max_travel\": 1401.0146800000002, \"Huck_height_(m)\": 3.173665601993431, \"LabelX\": \"John Sender 400lbs/in\", \"plot_point_size\": 2}, {\"Name\": \"Bill Orange DH\", \"Discipline\": \"DH\", \"Stroke\": 76.0, \"Travel\": 190, \"Spring_rate\": 425, \"Weight\": 78, \"Speed_rating\": 6, \"Motion_ratio\": 2.5, \"Spring_rate_at_wheel\": 68.0, \"Spring_rate_at_wheel_normalised_75kg\": 65.38461538461539, \"Energy_at_max_travel\": 1343.4417329937498, \"Huck_height_(m)\": 2.926199789578378, \"LabelX\": \"Bill Orange DH 425lbs/in\", \"plot_point_size\": 2}, {\"Name\": \"Mark Vitus Dominer\", \"Discipline\": \"DH\", \"Stroke\": 70.0, \"Travel\": 200, \"Spring_rate\": 425, \"Weight\": 75, \"Speed_rating\": 6, \"Motion_ratio\": 2.857142857142857, \"Spring_rate_at_wheel\": 52.0625, \"Spring_rate_at_wheel_normalised_75kg\": 52.0625, \"Energy_at_max_travel\": 1488.5780975000002, \"Huck_height_(m)\": 3.3720197021180205, \"LabelX\": \"Mark Vitus Dominer 425lbs/in\", \"plot_point_size\": 2}, {\"Name\": \"Row Kona\", \"Discipline\": \"DH\", \"Stroke\": 70.0, \"Travel\": 196, \"Spring_rate\": 450, \"Weight\": 62, \"Speed_rating\": 6, \"Motion_ratio\": 2.8, \"Spring_rate_at_wheel\": 57.39795918367348, \"Spring_rate_at_wheel_normalised_75kg\": 69.43301514154051, \"Energy_at_max_travel\": 1513.7263110060003, \"Huck_height_(m)\": 4.147968144766698, \"LabelX\": \"Row Kona 450lbs/in\", \"plot_point_size\": 2}, {\"Name\": \"Amy Gambler\", \"Discipline\": \"DH\", \"Stroke\": 89.0, \"Travel\": 210, \"Spring_rate\": 300, \"Weight\": 65, \"Speed_rating\": 6, \"Motion_ratio\": 2.359550561797753, \"Spring_rate_at_wheel\": 53.884353741496604, \"Spring_rate_at_wheel_normalised_75kg\": 62.17425431711147, \"Energy_at_max_travel\": 1158.4640135249997, \"Huck_height_(m)\": 3.027951628440366, \"LabelX\": \"Amy Gambler 300lbs/in\", \"plot_point_size\": 2}, {\"Name\": \"Lizzie Kenevo\", \"Discipline\": \"DH\", \"Stroke\": 63.0, \"Travel\": 180, \"Spring_rate\": 457, \"Weight\": 63, \"Speed_rating\": 6, \"Motion_ratio\": 2.857142857142857, \"Spring_rate_at_wheel\": 55.9825, \"Spring_rate_at_wheel_normalised_75kg\": 66.64583333333333, \"Energy_at_max_travel\": 1296.5340102389998, \"Huck_height_(m)\": 3.496416059196155, \"LabelX\": \"Lizzie Kenevo 457lbs/in\", \"plot_point_size\": 2}, {\"Name\": \"Matt Zesty\", \"Discipline\": \"Enduro\", \"Stroke\": 57.0, \"Travel\": 150, \"Spring_rate\": 450, \"Weight\": 72, \"Speed_rating\": 6, \"Motion_ratio\": 2.6315789473684212, \"Spring_rate_at_wheel\": 64.97999999999999, \"Spring_rate_at_wheel_normalised_75kg\": 67.68749999999999, \"Energy_at_max_travel\": 886.5796021875, \"Huck_height_(m)\": 2.0920158997515292, \"LabelX\": \"Matt Zesty 450lbs/in\", \"plot_point_size\": 2}, {\"Name\": \"Matt Bird\", \"Discipline\": \"Enduro\", \"Stroke\": 65.0, \"Travel\": 160, \"Spring_rate\": 450, \"Weight\": 72, \"Speed_rating\": 6, \"Motion_ratio\": 2.4615384615384617, \"Spring_rate_at_wheel\": 74.26757812499999, \"Spring_rate_at_wheel_normalised_75kg\": 77.36206054687499, \"Energy_at_max_travel\": 1008.7305696000001, \"Huck_height_(m)\": 2.3802492014950736, \"LabelX\": \"Matt Bird 450lbs/in\", \"plot_point_size\": 2}, {\"Name\": \"Matt Bird\", \"Discipline\": \"Enduro\", \"Stroke\": 65.0, \"Travel\": 160, \"Spring_rate\": 400, \"Weight\": 72, \"Speed_rating\": 6, \"Motion_ratio\": 2.4615384615384617, \"Spring_rate_at_wheel\": 66.01562499999999, \"Spring_rate_at_wheel_normalised_75kg\": 68.76627604166666, \"Energy_at_max_travel\": 896.6493952, \"Huck_height_(m)\": 2.1157770679956207, \"LabelX\": \"Matt Bird 400lbs/in\", \"plot_point_size\": 2}, {\"Name\": \"John Whyte G160\", \"Discipline\": \"Enduro\", \"Stroke\": 63.0, \"Travel\": 160, \"Spring_rate\": 450, \"Weight\": 75, \"Speed_rating\": 6, \"Motion_ratio\": 2.5396825396825395, \"Spring_rate_at_wheel\": 69.76757812500001, \"Spring_rate_at_wheel_normalised_75kg\": 69.76757812500001, \"Energy_at_max_travel\": 1008.7305696000001, \"Huck_height_(m)\": 2.28503923343527, \"LabelX\": \"John Whyte G160 450lbs/in\", \"plot_point_size\": 2}, {\"Name\": \"John Meta\", \"Discipline\": \"Enduro\", \"Stroke\": 62.5, \"Travel\": 160, \"Spring_rate\": 350, \"Weight\": 75, \"Speed_rating\": 6, \"Motion_ratio\": 2.56, \"Spring_rate_at_wheel\": 53.40576171875, \"Spring_rate_at_wheel_normalised_75kg\": 53.40576171875, \"Energy_at_max_travel\": 784.5682208, \"Huck_height_(m)\": 1.777252737116321, \"LabelX\": \"John Meta 350lbs/in\", \"plot_point_size\": 2}, {\"Name\": \"Bill Nuke\", \"Discipline\": \"Enduro\", \"Stroke\": 63.0, \"Travel\": 160, \"Spring_rate\": 500, \"Weight\": 78, \"Speed_rating\": 6, \"Motion_ratio\": 2.5396825396825395, \"Spring_rate_at_wheel\": 77.51953125000001, \"Spring_rate_at_wheel_normalised_75kg\": 74.53801081730771, \"Energy_at_max_travel\": 1120.811744, \"Huck_height_(m)\": 2.4412812323026394, \"LabelX\": \"Bill Nuke 500lbs/in\", \"plot_point_size\": 2}, {\"Name\": \"Bill Arbr\", \"Discipline\": \"Enduro\", \"Stroke\": 65.0, \"Travel\": 160, \"Spring_rate\": 434, \"Weight\": 78, \"Speed_rating\": 6, \"Motion_ratio\": 2.4615384615384617, \"Spring_rate_at_wheel\": 71.62695312499999, \"Spring_rate_at_wheel_normalised_75kg\": 68.87207031249999, \"Energy_at_max_travel\": 972.864593792, \"Huck_height_(m)\": 2.119032109638691, \"LabelX\": \"Bill Arbr 434lbs/in\", \"plot_point_size\": 2}, {\"Name\": \"Mark Arbr\", \"Discipline\": \"Enduro\", \"Stroke\": 65.0, \"Travel\": 160, \"Spring_rate\": 475, \"Weight\": 75, \"Speed_rating\": 6, \"Motion_ratio\": 2.4615384615384617, \"Spring_rate_at_wheel\": 78.39355468749999, \"Spring_rate_at_wheel_normalised_75kg\": 78.39355468749999, \"Energy_at_max_travel\": 1064.7711568, \"Huck_height_(m)\": 2.411985857515007, \"LabelX\": \"Mark Arbr 475lbs/in\", \"plot_point_size\": 2}, {\"Name\": \"Phil Taylor\", \"Discipline\": \"Enduro\", \"Stroke\": 50.0, \"Travel\": 130, \"Spring_rate\": 550, \"Weight\": 80, \"Speed_rating\": 6, \"Motion_ratio\": 2.6, \"Spring_rate_at_wheel\": 81.36094674556212, \"Spring_rate_at_wheel_normalised_75kg\": 76.27588757396448, \"Energy_at_max_travel\": 813.9019656625001, \"Huck_height_(m)\": 1.72847002561693, \"LabelX\": \"Phil Taylor 550lbs/in\", \"plot_point_size\": 2}, {\"Name\": \"Row Pivot\", \"Discipline\": \"Enduro\", \"Stroke\": 65.0, \"Travel\": 162, \"Spring_rate\": 450, \"Weight\": 62, \"Speed_rating\": 6, \"Motion_ratio\": 2.4923076923076923, \"Spring_rate_at_wheel\": 72.44513031550068, \"Spring_rate_at_wheel_normalised_75kg\": 87.63523828487986, \"Energy_at_max_travel\": 1034.1064479915, \"Huck_height_(m)\": 2.833696272158923, \"LabelX\": \"Row Pivot 450lbs/in\", \"plot_point_size\": 2}, {\"Name\": \"Amy Marin\", \"Discipline\": \"Enduro\", \"Stroke\": 65.0, \"Travel\": 150, \"Spring_rate\": 300, \"Weight\": 65, \"Speed_rating\": 6, \"Motion_ratio\": 2.3076923076923075, \"Spring_rate_at_wheel\": 56.33333333333334, \"Spring_rate_at_wheel_normalised_75kg\": 65.00000000000001, \"Energy_at_max_travel\": 591.053068125, \"Huck_height_(m)\": 1.5448732798165137, \"LabelX\": \"Amy Marin 300lbs/in\", \"plot_point_size\": 2}, {\"Name\": \"Ben Cathro\", \"Discipline\": \"Enduro\", \"Stroke\": 65.0, \"Travel\": 170, \"Spring_rate\": 457, \"Weight\": 90, \"Speed_rating\": 10, \"Motion_ratio\": 2.6153846153846154, \"Spring_rate_at_wheel\": 66.81055363321799, \"Spring_rate_at_wheel_normalised_75kg\": 55.675461361014996, \"Energy_at_max_travel\": 1156.4763239477502, \"Huck_height_(m)\": 2.183101755479575, \"LabelX\": \"Ben Cathro 457lbs/in\", \"plot_point_size\": 2}, {\"Name\": \"Paul Aston Kitsuma Banshee\", \"Discipline\": \"Enduro\", \"Stroke\": 65.0, \"Travel\": 155, \"Spring_rate\": 350, \"Weight\": 75, \"Speed_rating\": 9, \"Motion_ratio\": 2.3846153846153846, \"Spring_rate_at_wheel\": 61.55046826222685, \"Spring_rate_at_wheel_normalised_75kg\": 61.55046826222685, \"Energy_at_max_travel\": 736.298886903125, \"Huck_height_(m)\": 1.6679100394226412, \"LabelX\": \"Paul Aston Kitsuma Banshee 350lbs/in\", \"plot_point_size\": 2}, {\"Name\": \"Paul Aston DHX2 Banshee Legend\", \"Discipline\": \"Enduro\", \"Stroke\": 76.0, \"Travel\": 190, \"Spring_rate\": 375, \"Weight\": 75, \"Speed_rating\": 9, \"Motion_ratio\": 2.5, \"Spring_rate_at_wheel\": 60.0, \"Spring_rate_at_wheel_normalised_75kg\": 60.0, \"Energy_at_max_travel\": 1185.38976440625, \"Huck_height_(m)\": 2.685218630436629, \"LabelX\": \"Paul Aston DHX2 Banshee Legend 375lbs/in\", \"plot_point_size\": 2}, {\"Name\": \"Row Merida\", \"Discipline\": \"Enduro\", \"Stroke\": 65.0, \"Travel\": 150, \"Spring_rate\": 400, \"Weight\": 69, \"Speed_rating\": 6, \"Motion_ratio\": 2.3076923076923075, \"Spring_rate_at_wheel\": 75.11111111111113, \"Spring_rate_at_wheel_normalised_75kg\": 81.64251207729471, \"Energy_at_max_travel\": 788.0707574999999, \"Huck_height_(m)\": 1.9404205446970701, \"LabelX\": \"Row Merida 400lbs/in\", \"plot_point_size\": 2}, {\"Name\": \"Jono Jones Ard Rock\", \"Discipline\": \"Enduro\", \"Stroke\": 55.0, \"Travel\": 160, \"Spring_rate\": 550, \"Weight\": 93, \"Speed_rating\": 10, \"Motion_ratio\": 2.909090909090909, \"Spring_rate_at_wheel\": 64.990234375, \"Spring_rate_at_wheel_normalised_75kg\": 52.411479334677416, \"Energy_at_max_travel\": 1232.8929184, \"Huck_height_(m)\": 2.252278814317919, \"LabelX\": \"Jono Jones Ard Rock 550lbs/in\", \"plot_point_size\": 2}, {\"Name\": \"Steve Pete Ard Rock\", \"Discipline\": \"Enduro\", \"Stroke\": 62.5, \"Travel\": 170, \"Spring_rate\": 600, \"Weight\": 107, \"Speed_rating\": 10, \"Motion_ratio\": 2.72, \"Spring_rate_at_wheel\": 81.098615916955, \"Spring_rate_at_wheel_normalised_75kg\": 56.844824240856305, \"Energy_at_max_travel\": 1518.3496594500002, \"Huck_height_(m)\": 2.410836516000267, \"LabelX\": \"Steve Pete Ard Rock 600lbs/in\", \"plot_point_size\": 2}, {\"Name\": \"Bill Arbr\", \"Discipline\": \"Enduro\", \"Stroke\": 65.0, \"Travel\": 160, \"Spring_rate\": 480, \"Weight\": 78, \"Speed_rating\": 6, \"Motion_ratio\": 2.4615384615384617, \"Spring_rate_at_wheel\": 79.21874999999999, \"Spring_rate_at_wheel_normalised_75kg\": 76.17187499999999, \"Energy_at_max_travel\": 1075.97927424, \"Huck_height_(m)\": 2.3436299830105334, \"LabelX\": \"Bill Arbr 480lbs/in\", \"plot_point_size\": 2}], \"data-1b35a5c60130d7d671f3e8441eaffa5a\": [{\"Discipline\": \"Entered data\", \"Name\": \"Jane Doe\", \"Stroke\": 63, \"Travel\": 160, \"Spring_rate\": 434, \"Weight\": 80, \"Speed_rating\": 5, \"Motion_ratio\": 2.5396825396825395, \"Spring_rate_at_wheel\": 67.28695312500001, \"Spring_rate_at_wheel_normalised_75kg\": 63.08151855468751, \"Energy_at_max_travel\": 972.864593792, \"Huck_height_(m)\": 2.0660563068977233, \"LabelX\": \"Jane Doe 434lbs/in\", \"plot_point_size\": 3}], \"data-9eca739eae8d842e0718247e0390b35b\": [{\"Name\": \"Matt Radon\", \"Discipline\": \"DH\", \"Stroke\": 76.0, \"Travel\": 200, \"Spring_rate\": 450, \"Weight\": 72, \"Speed_rating\": 6, \"Motion_ratio\": 2.6315789473684212, \"Spring_rate_at_wheel\": 64.97999999999999, \"Spring_rate_at_wheel_normalised_75kg\": 67.68749999999999, \"Energy_at_max_travel\": 1576.1415150000005, \"Huck_height_(m)\": 3.719139377336053, \"LabelX\": \"Matt Radon 450lbs/in\", \"plot_point_size\": 2}, {\"Name\": \"Matt Dissent\", \"Discipline\": \"DH\", \"Stroke\": 70.0, \"Travel\": 190, \"Spring_rate\": 450, \"Weight\": 72, \"Speed_rating\": 6, \"Motion_ratio\": 2.7142857142857144, \"Spring_rate_at_wheel\": 61.08033240997229, \"Spring_rate_at_wheel_normalised_75kg\": 63.6253462603878, \"Energy_at_max_travel\": 1422.4677172875001, \"Huck_height_(m)\": 3.3565232880457874, \"LabelX\": \"Matt Dissent 450lbs/in\", \"plot_point_size\": 2}, {\"Name\": \"Matt Dissent\", \"Discipline\": \"DH\", \"Stroke\": 70.0, \"Travel\": 190, \"Spring_rate\": 500, \"Weight\": 72, \"Speed_rating\": 6, \"Motion_ratio\": 2.7142857142857144, \"Spring_rate_at_wheel\": 67.86703601108033, \"Spring_rate_at_wheel_normalised_75kg\": 70.69482917820868, \"Energy_at_max_travel\": 1580.5196858749998, \"Huck_height_(m)\": 3.729470320050874, \"LabelX\": \"Matt Dissent 500lbs/in\", \"plot_point_size\": 2}, {\"Name\": \"John Sender\", \"Discipline\": \"DH\", \"Stroke\": 75.0, \"Travel\": 200, \"Spring_rate\": 400, \"Weight\": 75, \"Speed_rating\": 6, \"Motion_ratio\": 2.6666666666666665, \"Spring_rate_at_wheel\": 56.25, \"Spring_rate_at_wheel_normalised_75kg\": 56.25, \"Energy_at_max_travel\": 1401.0146800000002, \"Huck_height_(m)\": 3.173665601993431, \"LabelX\": \"John Sender 400lbs/in\", \"plot_point_size\": 2}, {\"Name\": \"Bill Orange DH\", \"Discipline\": \"DH\", \"Stroke\": 76.0, \"Travel\": 190, \"Spring_rate\": 425, \"Weight\": 78, \"Speed_rating\": 6, \"Motion_ratio\": 2.5, \"Spring_rate_at_wheel\": 68.0, \"Spring_rate_at_wheel_normalised_75kg\": 65.38461538461539, \"Energy_at_max_travel\": 1343.4417329937498, \"Huck_height_(m)\": 2.926199789578378, \"LabelX\": \"Bill Orange DH 425lbs/in\", \"plot_point_size\": 2}, {\"Name\": \"Mark Vitus Dominer\", \"Discipline\": \"DH\", \"Stroke\": 70.0, \"Travel\": 200, \"Spring_rate\": 425, \"Weight\": 75, \"Speed_rating\": 6, \"Motion_ratio\": 2.857142857142857, \"Spring_rate_at_wheel\": 52.0625, \"Spring_rate_at_wheel_normalised_75kg\": 52.0625, \"Energy_at_max_travel\": 1488.5780975000002, \"Huck_height_(m)\": 3.3720197021180205, \"LabelX\": \"Mark Vitus Dominer 425lbs/in\", \"plot_point_size\": 2}, {\"Name\": \"Row Kona\", \"Discipline\": \"DH\", \"Stroke\": 70.0, \"Travel\": 196, \"Spring_rate\": 450, \"Weight\": 62, \"Speed_rating\": 6, \"Motion_ratio\": 2.8, \"Spring_rate_at_wheel\": 57.39795918367348, \"Spring_rate_at_wheel_normalised_75kg\": 69.43301514154051, \"Energy_at_max_travel\": 1513.7263110060003, \"Huck_height_(m)\": 4.147968144766698, \"LabelX\": \"Row Kona 450lbs/in\", \"plot_point_size\": 2}, {\"Name\": \"Amy Gambler\", \"Discipline\": \"DH\", \"Stroke\": 89.0, \"Travel\": 210, \"Spring_rate\": 300, \"Weight\": 65, \"Speed_rating\": 6, \"Motion_ratio\": 2.359550561797753, \"Spring_rate_at_wheel\": 53.884353741496604, \"Spring_rate_at_wheel_normalised_75kg\": 62.17425431711147, \"Energy_at_max_travel\": 1158.4640135249997, \"Huck_height_(m)\": 3.027951628440366, \"LabelX\": \"Amy Gambler 300lbs/in\", \"plot_point_size\": 2}, {\"Name\": \"Lizzie Kenevo\", \"Discipline\": \"DH\", \"Stroke\": 63.0, \"Travel\": 180, \"Spring_rate\": 457, \"Weight\": 63, \"Speed_rating\": 6, \"Motion_ratio\": 2.857142857142857, \"Spring_rate_at_wheel\": 55.9825, \"Spring_rate_at_wheel_normalised_75kg\": 66.64583333333333, \"Energy_at_max_travel\": 1296.5340102389998, \"Huck_height_(m)\": 3.496416059196155, \"LabelX\": \"Lizzie Kenevo 457lbs/in\", \"plot_point_size\": 2}, {\"Name\": \"Matt Zesty\", \"Discipline\": \"Enduro\", \"Stroke\": 57.0, \"Travel\": 150, \"Spring_rate\": 450, \"Weight\": 72, \"Speed_rating\": 6, \"Motion_ratio\": 2.6315789473684212, \"Spring_rate_at_wheel\": 64.97999999999999, \"Spring_rate_at_wheel_normalised_75kg\": 67.68749999999999, \"Energy_at_max_travel\": 886.5796021875, \"Huck_height_(m)\": 2.0920158997515292, \"LabelX\": \"Matt Zesty 450lbs/in\", \"plot_point_size\": 2}, {\"Name\": \"Matt Bird\", \"Discipline\": \"Enduro\", \"Stroke\": 65.0, \"Travel\": 160, \"Spring_rate\": 450, \"Weight\": 72, \"Speed_rating\": 6, \"Motion_ratio\": 2.4615384615384617, \"Spring_rate_at_wheel\": 74.26757812499999, \"Spring_rate_at_wheel_normalised_75kg\": 77.36206054687499, \"Energy_at_max_travel\": 1008.7305696000001, \"Huck_height_(m)\": 2.3802492014950736, \"LabelX\": \"Matt Bird 450lbs/in\", \"plot_point_size\": 2}, {\"Name\": \"Matt Bird\", \"Discipline\": \"Enduro\", \"Stroke\": 65.0, \"Travel\": 160, \"Spring_rate\": 400, \"Weight\": 72, \"Speed_rating\": 6, \"Motion_ratio\": 2.4615384615384617, \"Spring_rate_at_wheel\": 66.01562499999999, \"Spring_rate_at_wheel_normalised_75kg\": 68.76627604166666, \"Energy_at_max_travel\": 896.6493952, \"Huck_height_(m)\": 2.1157770679956207, \"LabelX\": \"Matt Bird 400lbs/in\", \"plot_point_size\": 2}, {\"Name\": \"John Whyte G160\", \"Discipline\": \"Enduro\", \"Stroke\": 63.0, \"Travel\": 160, \"Spring_rate\": 450, \"Weight\": 75, \"Speed_rating\": 6, \"Motion_ratio\": 2.5396825396825395, \"Spring_rate_at_wheel\": 69.76757812500001, \"Spring_rate_at_wheel_normalised_75kg\": 69.76757812500001, \"Energy_at_max_travel\": 1008.7305696000001, \"Huck_height_(m)\": 2.28503923343527, \"LabelX\": \"John Whyte G160 450lbs/in\", \"plot_point_size\": 2}, {\"Name\": \"John Meta\", \"Discipline\": \"Enduro\", \"Stroke\": 62.5, \"Travel\": 160, \"Spring_rate\": 350, \"Weight\": 75, \"Speed_rating\": 6, \"Motion_ratio\": 2.56, \"Spring_rate_at_wheel\": 53.40576171875, \"Spring_rate_at_wheel_normalised_75kg\": 53.40576171875, \"Energy_at_max_travel\": 784.5682208, \"Huck_height_(m)\": 1.777252737116321, \"LabelX\": \"John Meta 350lbs/in\", \"plot_point_size\": 2}, {\"Name\": \"Bill Nuke\", \"Discipline\": \"Enduro\", \"Stroke\": 63.0, \"Travel\": 160, \"Spring_rate\": 500, \"Weight\": 78, \"Speed_rating\": 6, \"Motion_ratio\": 2.5396825396825395, \"Spring_rate_at_wheel\": 77.51953125000001, \"Spring_rate_at_wheel_normalised_75kg\": 74.53801081730771, \"Energy_at_max_travel\": 1120.811744, \"Huck_height_(m)\": 2.4412812323026394, \"LabelX\": \"Bill Nuke 500lbs/in\", \"plot_point_size\": 2}, {\"Name\": \"Bill Arbr\", \"Discipline\": \"Enduro\", \"Stroke\": 65.0, \"Travel\": 160, \"Spring_rate\": 434, \"Weight\": 78, \"Speed_rating\": 6, \"Motion_ratio\": 2.4615384615384617, \"Spring_rate_at_wheel\": 71.62695312499999, \"Spring_rate_at_wheel_normalised_75kg\": 68.87207031249999, \"Energy_at_max_travel\": 972.864593792, \"Huck_height_(m)\": 2.119032109638691, \"LabelX\": \"Bill Arbr 434lbs/in\", \"plot_point_size\": 2}, {\"Name\": \"Mark Arbr\", \"Discipline\": \"Enduro\", \"Stroke\": 65.0, \"Travel\": 160, \"Spring_rate\": 475, \"Weight\": 75, \"Speed_rating\": 6, \"Motion_ratio\": 2.4615384615384617, \"Spring_rate_at_wheel\": 78.39355468749999, \"Spring_rate_at_wheel_normalised_75kg\": 78.39355468749999, \"Energy_at_max_travel\": 1064.7711568, \"Huck_height_(m)\": 2.411985857515007, \"LabelX\": \"Mark Arbr 475lbs/in\", \"plot_point_size\": 2}, {\"Name\": \"Phil Taylor\", \"Discipline\": \"Enduro\", \"Stroke\": 50.0, \"Travel\": 130, \"Spring_rate\": 550, \"Weight\": 80, \"Speed_rating\": 6, \"Motion_ratio\": 2.6, \"Spring_rate_at_wheel\": 81.36094674556212, \"Spring_rate_at_wheel_normalised_75kg\": 76.27588757396448, \"Energy_at_max_travel\": 813.9019656625001, \"Huck_height_(m)\": 1.72847002561693, \"LabelX\": \"Phil Taylor 550lbs/in\", \"plot_point_size\": 2}, {\"Name\": \"Row Pivot\", \"Discipline\": \"Enduro\", \"Stroke\": 65.0, \"Travel\": 162, \"Spring_rate\": 450, \"Weight\": 62, \"Speed_rating\": 6, \"Motion_ratio\": 2.4923076923076923, \"Spring_rate_at_wheel\": 72.44513031550068, \"Spring_rate_at_wheel_normalised_75kg\": 87.63523828487986, \"Energy_at_max_travel\": 1034.1064479915, \"Huck_height_(m)\": 2.833696272158923, \"LabelX\": \"Row Pivot 450lbs/in\", \"plot_point_size\": 2}, {\"Name\": \"Amy Marin\", \"Discipline\": \"Enduro\", \"Stroke\": 65.0, \"Travel\": 150, \"Spring_rate\": 300, \"Weight\": 65, \"Speed_rating\": 6, \"Motion_ratio\": 2.3076923076923075, \"Spring_rate_at_wheel\": 56.33333333333334, \"Spring_rate_at_wheel_normalised_75kg\": 65.00000000000001, \"Energy_at_max_travel\": 591.053068125, \"Huck_height_(m)\": 1.5448732798165137, \"LabelX\": \"Amy Marin 300lbs/in\", \"plot_point_size\": 2}, {\"Name\": \"Ben Cathro\", \"Discipline\": \"Enduro\", \"Stroke\": 65.0, \"Travel\": 170, \"Spring_rate\": 457, \"Weight\": 90, \"Speed_rating\": 10, \"Motion_ratio\": 2.6153846153846154, \"Spring_rate_at_wheel\": 66.81055363321799, \"Spring_rate_at_wheel_normalised_75kg\": 55.675461361014996, \"Energy_at_max_travel\": 1156.4763239477502, \"Huck_height_(m)\": 2.183101755479575, \"LabelX\": \"Ben Cathro 457lbs/in\", \"plot_point_size\": 2}, {\"Name\": \"Paul Aston Kitsuma Banshee\", \"Discipline\": \"Enduro\", \"Stroke\": 65.0, \"Travel\": 155, \"Spring_rate\": 350, \"Weight\": 75, \"Speed_rating\": 9, \"Motion_ratio\": 2.3846153846153846, \"Spring_rate_at_wheel\": 61.55046826222685, \"Spring_rate_at_wheel_normalised_75kg\": 61.55046826222685, \"Energy_at_max_travel\": 736.298886903125, \"Huck_height_(m)\": 1.6679100394226412, \"LabelX\": \"Paul Aston Kitsuma Banshee 350lbs/in\", \"plot_point_size\": 2}, {\"Name\": \"Paul Aston DHX2 Banshee Legend\", \"Discipline\": \"Enduro\", \"Stroke\": 76.0, \"Travel\": 190, \"Spring_rate\": 375, \"Weight\": 75, \"Speed_rating\": 9, \"Motion_ratio\": 2.5, \"Spring_rate_at_wheel\": 60.0, \"Spring_rate_at_wheel_normalised_75kg\": 60.0, \"Energy_at_max_travel\": 1185.38976440625, \"Huck_height_(m)\": 2.685218630436629, \"LabelX\": \"Paul Aston DHX2 Banshee Legend 375lbs/in\", \"plot_point_size\": 2}, {\"Name\": \"Row Merida\", \"Discipline\": \"Enduro\", \"Stroke\": 65.0, \"Travel\": 150, \"Spring_rate\": 400, \"Weight\": 69, \"Speed_rating\": 6, \"Motion_ratio\": 2.3076923076923075, \"Spring_rate_at_wheel\": 75.11111111111113, \"Spring_rate_at_wheel_normalised_75kg\": 81.64251207729471, \"Energy_at_max_travel\": 788.0707574999999, \"Huck_height_(m)\": 1.9404205446970701, \"LabelX\": \"Row Merida 400lbs/in\", \"plot_point_size\": 2}, {\"Name\": \"Jono Jones Ard Rock\", \"Discipline\": \"Enduro\", \"Stroke\": 55.0, \"Travel\": 160, \"Spring_rate\": 550, \"Weight\": 93, \"Speed_rating\": 10, \"Motion_ratio\": 2.909090909090909, \"Spring_rate_at_wheel\": 64.990234375, \"Spring_rate_at_wheel_normalised_75kg\": 52.411479334677416, \"Energy_at_max_travel\": 1232.8929184, \"Huck_height_(m)\": 2.252278814317919, \"LabelX\": \"Jono Jones Ard Rock 550lbs/in\", \"plot_point_size\": 2}, {\"Name\": \"Steve Pete Ard Rock\", \"Discipline\": \"Enduro\", \"Stroke\": 62.5, \"Travel\": 170, \"Spring_rate\": 600, \"Weight\": 107, \"Speed_rating\": 10, \"Motion_ratio\": 2.72, \"Spring_rate_at_wheel\": 81.098615916955, \"Spring_rate_at_wheel_normalised_75kg\": 56.844824240856305, \"Energy_at_max_travel\": 1518.3496594500002, \"Huck_height_(m)\": 2.410836516000267, \"LabelX\": \"Steve Pete Ard Rock 600lbs/in\", \"plot_point_size\": 2}, {\"Name\": \"Bill Arbr\", \"Discipline\": \"Enduro\", \"Stroke\": 65.0, \"Travel\": 160, \"Spring_rate\": 480, \"Weight\": 78, \"Speed_rating\": 6, \"Motion_ratio\": 2.4615384615384617, \"Spring_rate_at_wheel\": 79.21874999999999, \"Spring_rate_at_wheel_normalised_75kg\": 76.17187499999999, \"Energy_at_max_travel\": 1075.97927424, \"Huck_height_(m)\": 2.3436299830105334, \"LabelX\": \"Bill Arbr 480lbs/in\", \"plot_point_size\": 2}, {\"Name\": \"Jane Doe\", \"Discipline\": \"Entered data\", \"Stroke\": 63.0, \"Travel\": 160, \"Spring_rate\": 434, \"Weight\": 80, \"Speed_rating\": 5, \"Motion_ratio\": 2.5396825396825395, \"Spring_rate_at_wheel\": 67.28695312500001, \"Spring_rate_at_wheel_normalised_75kg\": 63.08151855468751, \"Energy_at_max_travel\": 972.864593792, \"Huck_height_(m)\": 2.0660563068977233, \"LabelX\": \"Jane Doe 434lbs/in\", \"plot_point_size\": 3}]}}, {\"mode\": \"vega-lite\"});\n",
       "</script>"
      ],
      "text/plain": [
       "alt.LayerChart(...)"
      ]
     },
     "execution_count": 23,
     "metadata": {},
     "output_type": "execute_result"
    }
   ],
   "source": [
    "#read the results data\n",
    "#Stroke = rear shock stroke (mm). Shock length at full extension - shock length at full compression. Typically ~ 76mm\n",
    "#Travel = rear wheel vertical travel, mm. Typically 160mm. \n",
    "#Weight = rider weight, kg. \n",
    "#Discipline = {DH, Enduro, Other}\n",
    "#Speed = 1-10. This is relative to Mens world cup DH speed (10). 1 = beginner. 6 = mid pack male grassroots DH race.\n",
    "#Spring_rate = spring rate in lbs/in\n",
    "#name = rider name\n",
    "df = pd.read_csv(\"Data.csv\", index_col=1)\n",
    "df = df.reset_index()\n",
    "\n",
    "user_discipline = mr.Select(value=\"Enduro\", choices=['Enduro', 'DH'], label=\"Discipline\")\n",
    "user_stroke = mr.Slider(value=63, min=20, max=100, label=\"Rear shock stroke (mm)\", step=0.5)\n",
    "user_travel = mr.Slider(value=160, min=100, max=250, label=\"Rear wheel vertical travel (mm)\", step=5)\n",
    "user_weight = mr.Slider(value=80, min=20, max=200, label=\"Rider weight (Kg)\", step=1)\n",
    "user_spring_rate = mr.Slider(value=434, min=200, max=800, label=\"Spring_rate lbs/in\", step=5)\n",
    "user_speed_rating = mr.Slider(value=5, min=1, max=10, label=\"Rider speed, Mens WCDH = 10\", step=1)\n",
    "user_name = mr.Text(value='Jane Doe', label='Name')\n",
    "#button_upload = mr.Button(label=\"Upload to database\", style=\"primary\")\n",
    "\n",
    "\n",
    "def motion_ratio(travel, stroke):\n",
    "    return travel/stroke\n",
    "\n",
    "def spring_rate_at_wheel(spring, motion_ratio):\n",
    "    return spring/(motion_ratio**2)\n",
    "\n",
    "def spring_rate_at_wheel_normlaised_75kg(spring_rate_at_wheel, weight):\n",
    "    return spring_rate_at_wheel*75/weight\n",
    "\n",
    "def energy_at_max_travel(spring_rate, travel):\n",
    "    return 0.5*(spring_rate*175.126835)*((travel/1000)**2)\n",
    "\n",
    "def huck_height(energy_at_max_travel, weight):\n",
    "    return energy_at_max_travel/(0.6*weight*9.81)\n",
    "\n",
    "def add_label(name, spring):\n",
    "    return name + \" \" + str(spring) + \"lbs/in\"\n",
    "    \n",
    "def add_calucated_quantitles(df):\n",
    "    df['Motion_ratio'] = motion_ratio(df['Travel'], df['Stroke'])\n",
    "    df['Spring_rate_at_wheel'] = spring_rate_at_wheel(df['Spring_rate'],df['Motion_ratio'])\n",
    "    df['Spring_rate_at_wheel_normalised_75kg'] = spring_rate_at_wheel_normlaised_75kg(df['Spring_rate_at_wheel'],df['Weight'])\n",
    "    df['Energy_at_max_travel'] = energy_at_max_travel(df['Spring_rate'], df['Travel'])\n",
    "    df['Huck_height_(m)'] = huck_height(df['Energy_at_max_travel'], df['Weight'])\n",
    "    df['LabelX'] = np.vectorize(add_label)(df['Name'], df['Spring_rate'])\n",
    "    \n",
    "\n",
    "data = {\n",
    "        'Discipline': ['Entered data'],\n",
    "        'Name': [user_name.value],\n",
    "        'Stroke': [user_stroke.value],\n",
    "        'Travel': [user_travel.value],\n",
    "        'Spring_rate': [user_spring_rate.value],\n",
    "        'Weight': [user_weight.value],\n",
    "        'Speed_rating': [user_speed_rating.value],\n",
    "    }   \n",
    "\n",
    "df_user = pd.DataFrame(data)\n",
    "add_calucated_quantitles(df)\n",
    "add_calucated_quantitles(df_user)\n",
    "df_user['plot_point_size'] = 3\n",
    "df['plot_point_size'] = 2\n",
    "df_combined = pd.concat([df, df_user])\n",
    "\n",
    "\n",
    "# Make the chart\n",
    "points = alt.Chart(df, title='Normalised Rider Weight Spring Rate vs Bike Max Travel').mark_circle().encode(\n",
    "    alt.X('Travel:Q',axis=alt.Axis(title ='Travel_')).scale(zero=False),\n",
    "    alt.Y('Spring_rate_at_wheel_normalised_75kg:Q', axis=alt.Axis(title ='Spring_rate_at_wheel_normalised_75kg_')).scale(zero=False),\n",
    "    color='Discipline:N',\n",
    "    tooltip=['Name', 'Weight', 'Spring_rate', 'Speed_rating', 'Discipline'],\n",
    ")\n",
    "points_user = alt.Chart(df_user, title='Normalised Rider Weight Spring Rate vs Bike Max Travel').mark_circle().encode(\n",
    "    alt.X('Travel:Q',axis=alt.Axis(title ='Travel_')).scale(zero=False),\n",
    "    alt.Y('Spring_rate_at_wheel_normalised_75kg:Q', axis=alt.Axis(title ='Spring_rate_at_wheel_normalised_75kg_')).scale(zero=False),\n",
    "    color='Discipline:N',\n",
    "    tooltip=['Name', 'Weight', 'Spring_rate', 'Speed_rating', 'Discipline'],\n",
    "    size=alt.value(200)\n",
    ")\n",
    "\n",
    "labels =  alt.Chart(df_combined).mark_text(align='left', baseline='middle', dx=4).encode(alt.X('Travel:Q').scale(zero=False),\n",
    "    alt.Y('Spring_rate_at_wheel_normalised_75kg:Q').scale(zero=False),\n",
    "    text='LabelX:N')\n",
    "\n",
    "reg = alt.Chart(df).mark_circle().encode(\n",
    "    alt.X('Travel:Q',axis=alt.Axis(title ='Travel_')).scale(zero=False),\n",
    "    alt.Y('Spring_rate_at_wheel_normalised_75kg:Q', axis=alt.Axis(title ='Spring_rate_at_wheel_normalised_75kg_')).scale(zero=False),\n",
    "    color='Discipline:N',\n",
    "    tooltip=['Name', 'Weight', 'Spring_rate', 'Speed_rating', 'Discipline']\n",
    ").transform_regression('Travel', 'Spring_rate_at_wheel_normalised_75kg').mark_line(\n",
    "     opacity=0.50, \n",
    "     shape='mark'\n",
    ").transform_fold(\n",
    "     [\"best fit line\"], \n",
    "     as_=[\"Regression\", \"y\"]\n",
    ").encode(alt.Color(\"Regression:N\"))\n",
    "\n",
    "\n",
    "charts = (points + points_user + reg + labels).properties(width=\"container\").interactive()\n",
    "\n",
    "\n",
    "# Make the chart\n",
    "huck_height_chart = alt.Chart(df, title='Huck_height_(m) ').mark_circle().encode(\n",
    "    alt.X('Travel:Q').scale(zero=False),\n",
    "    alt.Y('Huck_height_(m):Q').scale(zero=False),\n",
    "    color='Discipline:N',\n",
    "    tooltip=['Name', 'Weight', 'Spring_rate', 'Speed_rating', 'Discipline']\n",
    ").properties(\n",
    "    width=\"container\"\n",
    ")\n",
    "\n",
    "huck_height_chart_user = alt.Chart(df_user, title='Huck_height_(m) ').mark_circle().encode(\n",
    "    alt.X('Travel:Q').scale(zero=False),\n",
    "    alt.Y('Huck_height_(m):Q').scale(zero=False),\n",
    "    color='Discipline:N',\n",
    "    tooltip=['Name', 'Weight', 'Spring_rate', 'Speed_rating', 'Discipline'],\n",
    "    size=alt.value(200)\n",
    ").properties(\n",
    "    width=\"container\"\n",
    ")\n",
    "\n",
    "labels_h =  alt.Chart(df_combined).mark_text(align='left', baseline='middle', dx=4).encode(alt.X('Travel:Q').scale(zero=False),\n",
    "    alt.Y('Huck_height_(m):Q').scale(zero=False),\n",
    "    text='LabelX:N')\n",
    "\n",
    "reg_h = alt.Chart(df).mark_circle().encode(\n",
    "    alt.X('Travel:Q',axis=alt.Axis(title ='Travel_')).scale(zero=False),\n",
    "    alt.Y('Huck_height_(m):Q', axis=alt.Axis(title ='Huck_height_(m)')).scale(zero=False),\n",
    "    color='Discipline:N',\n",
    "    tooltip=['Name', 'Weight', 'Spring_rate', 'Speed_rating', 'Discipline']\n",
    ").transform_regression('Travel', 'Huck_height_(m)').mark_line(\n",
    "     opacity=0.50, \n",
    "     shape='mark'\n",
    ").transform_fold(\n",
    "     [\"best fit line\"], \n",
    "     as_=[\"Regression\", \"y\"]\n",
    ").encode(alt.Color(\"Regression:N\"))\n",
    "\n",
    "charts2 = (huck_height_chart + huck_height_chart_user + reg_h + labels_h).interactive()\n",
    "charts"
   ]
  },
  {
   "cell_type": "code",
   "execution_count": 24,
   "metadata": {},
   "outputs": [
    {
     "data": {
      "text/html": [
       "\n",
       "<style>\n",
       "  #altair-viz-67dc9c48b78347c085dbe722b370aa8d.vega-embed {\n",
       "    width: 100%;\n",
       "    display: flex;\n",
       "  }\n",
       "\n",
       "  #altair-viz-67dc9c48b78347c085dbe722b370aa8d.vega-embed details,\n",
       "  #altair-viz-67dc9c48b78347c085dbe722b370aa8d.vega-embed details summary {\n",
       "    position: relative;\n",
       "  }\n",
       "</style>\n",
       "<div id=\"altair-viz-67dc9c48b78347c085dbe722b370aa8d\"></div>\n",
       "<script type=\"text/javascript\">\n",
       "  var VEGA_DEBUG = (typeof VEGA_DEBUG == \"undefined\") ? {} : VEGA_DEBUG;\n",
       "  (function(spec, embedOpt){\n",
       "    let outputDiv = document.currentScript.previousElementSibling;\n",
       "    if (outputDiv.id !== \"altair-viz-67dc9c48b78347c085dbe722b370aa8d\") {\n",
       "      outputDiv = document.getElementById(\"altair-viz-67dc9c48b78347c085dbe722b370aa8d\");\n",
       "    }\n",
       "    const paths = {\n",
       "      \"vega\": \"https://cdn.jsdelivr.net/npm/vega@5?noext\",\n",
       "      \"vega-lib\": \"https://cdn.jsdelivr.net/npm/vega-lib?noext\",\n",
       "      \"vega-lite\": \"https://cdn.jsdelivr.net/npm/vega-lite@5.8.0?noext\",\n",
       "      \"vega-embed\": \"https://cdn.jsdelivr.net/npm/vega-embed@6?noext\",\n",
       "    };\n",
       "\n",
       "    function maybeLoadScript(lib, version) {\n",
       "      var key = `${lib.replace(\"-\", \"\")}_version`;\n",
       "      return (VEGA_DEBUG[key] == version) ?\n",
       "        Promise.resolve(paths[lib]) :\n",
       "        new Promise(function(resolve, reject) {\n",
       "          var s = document.createElement('script');\n",
       "          document.getElementsByTagName(\"head\")[0].appendChild(s);\n",
       "          s.async = true;\n",
       "          s.onload = () => {\n",
       "            VEGA_DEBUG[key] = version;\n",
       "            return resolve(paths[lib]);\n",
       "          };\n",
       "          s.onerror = () => reject(`Error loading script: ${paths[lib]}`);\n",
       "          s.src = paths[lib];\n",
       "        });\n",
       "    }\n",
       "\n",
       "    function showError(err) {\n",
       "      outputDiv.innerHTML = `<div class=\"error\" style=\"color:red;\">${err}</div>`;\n",
       "      throw err;\n",
       "    }\n",
       "\n",
       "    function displayChart(vegaEmbed) {\n",
       "      vegaEmbed(outputDiv, spec, embedOpt)\n",
       "        .catch(err => showError(`Javascript Error: ${err.message}<br>This usually means there's a typo in your chart specification. See the javascript console for the full traceback.`));\n",
       "    }\n",
       "\n",
       "    if(typeof define === \"function\" && define.amd) {\n",
       "      requirejs.config({paths});\n",
       "      require([\"vega-embed\"], displayChart, err => showError(`Error loading script: ${err.message}`));\n",
       "    } else {\n",
       "      maybeLoadScript(\"vega\", \"5\")\n",
       "        .then(() => maybeLoadScript(\"vega-lite\", \"5.8.0\"))\n",
       "        .then(() => maybeLoadScript(\"vega-embed\", \"6\"))\n",
       "        .catch(showError)\n",
       "        .then(() => displayChart(vegaEmbed));\n",
       "    }\n",
       "  })({\"config\": {\"view\": {\"continuousWidth\": 300, \"continuousHeight\": 300}}, \"layer\": [{\"data\": {\"name\": \"data-33da925a729150d4707bd687ea9fd64e\"}, \"mark\": {\"type\": \"circle\"}, \"encoding\": {\"color\": {\"field\": \"Discipline\", \"type\": \"nominal\"}, \"tooltip\": [{\"field\": \"Name\", \"type\": \"nominal\"}, {\"field\": \"Weight\", \"type\": \"quantitative\"}, {\"field\": \"Spring_rate\", \"type\": \"quantitative\"}, {\"field\": \"Speed_rating\", \"type\": \"quantitative\"}, {\"field\": \"Discipline\", \"type\": \"nominal\"}], \"x\": {\"field\": \"Travel\", \"scale\": {\"zero\": false}, \"type\": \"quantitative\"}, \"y\": {\"field\": \"Huck_height_(m)\", \"scale\": {\"zero\": false}, \"type\": \"quantitative\"}}, \"name\": \"view_20\", \"title\": \"Huck_height_(m) \"}, {\"data\": {\"name\": \"data-1b35a5c60130d7d671f3e8441eaffa5a\"}, \"mark\": {\"type\": \"circle\"}, \"encoding\": {\"color\": {\"field\": \"Discipline\", \"type\": \"nominal\"}, \"size\": {\"value\": 200}, \"tooltip\": [{\"field\": \"Name\", \"type\": \"nominal\"}, {\"field\": \"Weight\", \"type\": \"quantitative\"}, {\"field\": \"Spring_rate\", \"type\": \"quantitative\"}, {\"field\": \"Speed_rating\", \"type\": \"quantitative\"}, {\"field\": \"Discipline\", \"type\": \"nominal\"}], \"x\": {\"field\": \"Travel\", \"scale\": {\"zero\": false}, \"type\": \"quantitative\"}, \"y\": {\"field\": \"Huck_height_(m)\", \"scale\": {\"zero\": false}, \"type\": \"quantitative\"}}, \"title\": \"Huck_height_(m) \"}, {\"data\": {\"name\": \"data-33da925a729150d4707bd687ea9fd64e\"}, \"mark\": {\"type\": \"line\", \"opacity\": 0.5, \"shape\": \"mark\"}, \"encoding\": {\"color\": {\"field\": \"Regression\", \"type\": \"nominal\"}, \"tooltip\": [{\"field\": \"Name\", \"type\": \"nominal\"}, {\"field\": \"Weight\", \"type\": \"quantitative\"}, {\"field\": \"Spring_rate\", \"type\": \"quantitative\"}, {\"field\": \"Speed_rating\", \"type\": \"quantitative\"}, {\"field\": \"Discipline\", \"type\": \"nominal\"}], \"x\": {\"axis\": {\"title\": \"Travel_\"}, \"field\": \"Travel\", \"scale\": {\"zero\": false}, \"type\": \"quantitative\"}, \"y\": {\"axis\": {\"title\": \"Huck_height_(m)\"}, \"field\": \"Huck_height_(m)\", \"scale\": {\"zero\": false}, \"type\": \"quantitative\"}}, \"transform\": [{\"on\": \"Travel\", \"regression\": \"Huck_height_(m)\"}, {\"fold\": [\"best fit line\"], \"as\": [\"Regression\", \"y\"]}]}, {\"data\": {\"name\": \"data-9eca739eae8d842e0718247e0390b35b\"}, \"mark\": {\"type\": \"text\", \"align\": \"left\", \"baseline\": \"middle\", \"dx\": 4}, \"encoding\": {\"text\": {\"field\": \"LabelX\", \"type\": \"nominal\"}, \"x\": {\"field\": \"Travel\", \"scale\": {\"zero\": false}, \"type\": \"quantitative\"}, \"y\": {\"field\": \"Huck_height_(m)\", \"scale\": {\"zero\": false}, \"type\": \"quantitative\"}}}], \"params\": [{\"name\": \"param_34\", \"select\": {\"type\": \"interval\", \"encodings\": [\"x\", \"y\"]}, \"bind\": \"scales\", \"views\": [\"view_20\"]}], \"width\": \"container\", \"$schema\": \"https://vega.github.io/schema/vega-lite/v5.8.0.json\", \"datasets\": {\"data-33da925a729150d4707bd687ea9fd64e\": [{\"Name\": \"Matt Radon\", \"Discipline\": \"DH\", \"Stroke\": 76.0, \"Travel\": 200, \"Spring_rate\": 450, \"Weight\": 72, \"Speed_rating\": 6, \"Motion_ratio\": 2.6315789473684212, \"Spring_rate_at_wheel\": 64.97999999999999, \"Spring_rate_at_wheel_normalised_75kg\": 67.68749999999999, \"Energy_at_max_travel\": 1576.1415150000005, \"Huck_height_(m)\": 3.719139377336053, \"LabelX\": \"Matt Radon 450lbs/in\", \"plot_point_size\": 2}, {\"Name\": \"Matt Dissent\", \"Discipline\": \"DH\", \"Stroke\": 70.0, \"Travel\": 190, \"Spring_rate\": 450, \"Weight\": 72, \"Speed_rating\": 6, \"Motion_ratio\": 2.7142857142857144, \"Spring_rate_at_wheel\": 61.08033240997229, \"Spring_rate_at_wheel_normalised_75kg\": 63.6253462603878, \"Energy_at_max_travel\": 1422.4677172875001, \"Huck_height_(m)\": 3.3565232880457874, \"LabelX\": \"Matt Dissent 450lbs/in\", \"plot_point_size\": 2}, {\"Name\": \"Matt Dissent\", \"Discipline\": \"DH\", \"Stroke\": 70.0, \"Travel\": 190, \"Spring_rate\": 500, \"Weight\": 72, \"Speed_rating\": 6, \"Motion_ratio\": 2.7142857142857144, \"Spring_rate_at_wheel\": 67.86703601108033, \"Spring_rate_at_wheel_normalised_75kg\": 70.69482917820868, \"Energy_at_max_travel\": 1580.5196858749998, \"Huck_height_(m)\": 3.729470320050874, \"LabelX\": \"Matt Dissent 500lbs/in\", \"plot_point_size\": 2}, {\"Name\": \"John Sender\", \"Discipline\": \"DH\", \"Stroke\": 75.0, \"Travel\": 200, \"Spring_rate\": 400, \"Weight\": 75, \"Speed_rating\": 6, \"Motion_ratio\": 2.6666666666666665, \"Spring_rate_at_wheel\": 56.25, \"Spring_rate_at_wheel_normalised_75kg\": 56.25, \"Energy_at_max_travel\": 1401.0146800000002, \"Huck_height_(m)\": 3.173665601993431, \"LabelX\": \"John Sender 400lbs/in\", \"plot_point_size\": 2}, {\"Name\": \"Bill Orange DH\", \"Discipline\": \"DH\", \"Stroke\": 76.0, \"Travel\": 190, \"Spring_rate\": 425, \"Weight\": 78, \"Speed_rating\": 6, \"Motion_ratio\": 2.5, \"Spring_rate_at_wheel\": 68.0, \"Spring_rate_at_wheel_normalised_75kg\": 65.38461538461539, \"Energy_at_max_travel\": 1343.4417329937498, \"Huck_height_(m)\": 2.926199789578378, \"LabelX\": \"Bill Orange DH 425lbs/in\", \"plot_point_size\": 2}, {\"Name\": \"Mark Vitus Dominer\", \"Discipline\": \"DH\", \"Stroke\": 70.0, \"Travel\": 200, \"Spring_rate\": 425, \"Weight\": 75, \"Speed_rating\": 6, \"Motion_ratio\": 2.857142857142857, \"Spring_rate_at_wheel\": 52.0625, \"Spring_rate_at_wheel_normalised_75kg\": 52.0625, \"Energy_at_max_travel\": 1488.5780975000002, \"Huck_height_(m)\": 3.3720197021180205, \"LabelX\": \"Mark Vitus Dominer 425lbs/in\", \"plot_point_size\": 2}, {\"Name\": \"Row Kona\", \"Discipline\": \"DH\", \"Stroke\": 70.0, \"Travel\": 196, \"Spring_rate\": 450, \"Weight\": 62, \"Speed_rating\": 6, \"Motion_ratio\": 2.8, \"Spring_rate_at_wheel\": 57.39795918367348, \"Spring_rate_at_wheel_normalised_75kg\": 69.43301514154051, \"Energy_at_max_travel\": 1513.7263110060003, \"Huck_height_(m)\": 4.147968144766698, \"LabelX\": \"Row Kona 450lbs/in\", \"plot_point_size\": 2}, {\"Name\": \"Amy Gambler\", \"Discipline\": \"DH\", \"Stroke\": 89.0, \"Travel\": 210, \"Spring_rate\": 300, \"Weight\": 65, \"Speed_rating\": 6, \"Motion_ratio\": 2.359550561797753, \"Spring_rate_at_wheel\": 53.884353741496604, \"Spring_rate_at_wheel_normalised_75kg\": 62.17425431711147, \"Energy_at_max_travel\": 1158.4640135249997, \"Huck_height_(m)\": 3.027951628440366, \"LabelX\": \"Amy Gambler 300lbs/in\", \"plot_point_size\": 2}, {\"Name\": \"Lizzie Kenevo\", \"Discipline\": \"DH\", \"Stroke\": 63.0, \"Travel\": 180, \"Spring_rate\": 457, \"Weight\": 63, \"Speed_rating\": 6, \"Motion_ratio\": 2.857142857142857, \"Spring_rate_at_wheel\": 55.9825, \"Spring_rate_at_wheel_normalised_75kg\": 66.64583333333333, \"Energy_at_max_travel\": 1296.5340102389998, \"Huck_height_(m)\": 3.496416059196155, \"LabelX\": \"Lizzie Kenevo 457lbs/in\", \"plot_point_size\": 2}, {\"Name\": \"Matt Zesty\", \"Discipline\": \"Enduro\", \"Stroke\": 57.0, \"Travel\": 150, \"Spring_rate\": 450, \"Weight\": 72, \"Speed_rating\": 6, \"Motion_ratio\": 2.6315789473684212, \"Spring_rate_at_wheel\": 64.97999999999999, \"Spring_rate_at_wheel_normalised_75kg\": 67.68749999999999, \"Energy_at_max_travel\": 886.5796021875, \"Huck_height_(m)\": 2.0920158997515292, \"LabelX\": \"Matt Zesty 450lbs/in\", \"plot_point_size\": 2}, {\"Name\": \"Matt Bird\", \"Discipline\": \"Enduro\", \"Stroke\": 65.0, \"Travel\": 160, \"Spring_rate\": 450, \"Weight\": 72, \"Speed_rating\": 6, \"Motion_ratio\": 2.4615384615384617, \"Spring_rate_at_wheel\": 74.26757812499999, \"Spring_rate_at_wheel_normalised_75kg\": 77.36206054687499, \"Energy_at_max_travel\": 1008.7305696000001, \"Huck_height_(m)\": 2.3802492014950736, \"LabelX\": \"Matt Bird 450lbs/in\", \"plot_point_size\": 2}, {\"Name\": \"Matt Bird\", \"Discipline\": \"Enduro\", \"Stroke\": 65.0, \"Travel\": 160, \"Spring_rate\": 400, \"Weight\": 72, \"Speed_rating\": 6, \"Motion_ratio\": 2.4615384615384617, \"Spring_rate_at_wheel\": 66.01562499999999, \"Spring_rate_at_wheel_normalised_75kg\": 68.76627604166666, \"Energy_at_max_travel\": 896.6493952, \"Huck_height_(m)\": 2.1157770679956207, \"LabelX\": \"Matt Bird 400lbs/in\", \"plot_point_size\": 2}, {\"Name\": \"John Whyte G160\", \"Discipline\": \"Enduro\", \"Stroke\": 63.0, \"Travel\": 160, \"Spring_rate\": 450, \"Weight\": 75, \"Speed_rating\": 6, \"Motion_ratio\": 2.5396825396825395, \"Spring_rate_at_wheel\": 69.76757812500001, \"Spring_rate_at_wheel_normalised_75kg\": 69.76757812500001, \"Energy_at_max_travel\": 1008.7305696000001, \"Huck_height_(m)\": 2.28503923343527, \"LabelX\": \"John Whyte G160 450lbs/in\", \"plot_point_size\": 2}, {\"Name\": \"John Meta\", \"Discipline\": \"Enduro\", \"Stroke\": 62.5, \"Travel\": 160, \"Spring_rate\": 350, \"Weight\": 75, \"Speed_rating\": 6, \"Motion_ratio\": 2.56, \"Spring_rate_at_wheel\": 53.40576171875, \"Spring_rate_at_wheel_normalised_75kg\": 53.40576171875, \"Energy_at_max_travel\": 784.5682208, \"Huck_height_(m)\": 1.777252737116321, \"LabelX\": \"John Meta 350lbs/in\", \"plot_point_size\": 2}, {\"Name\": \"Bill Nuke\", \"Discipline\": \"Enduro\", \"Stroke\": 63.0, \"Travel\": 160, \"Spring_rate\": 500, \"Weight\": 78, \"Speed_rating\": 6, \"Motion_ratio\": 2.5396825396825395, \"Spring_rate_at_wheel\": 77.51953125000001, \"Spring_rate_at_wheel_normalised_75kg\": 74.53801081730771, \"Energy_at_max_travel\": 1120.811744, \"Huck_height_(m)\": 2.4412812323026394, \"LabelX\": \"Bill Nuke 500lbs/in\", \"plot_point_size\": 2}, {\"Name\": \"Bill Arbr\", \"Discipline\": \"Enduro\", \"Stroke\": 65.0, \"Travel\": 160, \"Spring_rate\": 434, \"Weight\": 78, \"Speed_rating\": 6, \"Motion_ratio\": 2.4615384615384617, \"Spring_rate_at_wheel\": 71.62695312499999, \"Spring_rate_at_wheel_normalised_75kg\": 68.87207031249999, \"Energy_at_max_travel\": 972.864593792, \"Huck_height_(m)\": 2.119032109638691, \"LabelX\": \"Bill Arbr 434lbs/in\", \"plot_point_size\": 2}, {\"Name\": \"Mark Arbr\", \"Discipline\": \"Enduro\", \"Stroke\": 65.0, \"Travel\": 160, \"Spring_rate\": 475, \"Weight\": 75, \"Speed_rating\": 6, \"Motion_ratio\": 2.4615384615384617, \"Spring_rate_at_wheel\": 78.39355468749999, \"Spring_rate_at_wheel_normalised_75kg\": 78.39355468749999, \"Energy_at_max_travel\": 1064.7711568, \"Huck_height_(m)\": 2.411985857515007, \"LabelX\": \"Mark Arbr 475lbs/in\", \"plot_point_size\": 2}, {\"Name\": \"Phil Taylor\", \"Discipline\": \"Enduro\", \"Stroke\": 50.0, \"Travel\": 130, \"Spring_rate\": 550, \"Weight\": 80, \"Speed_rating\": 6, \"Motion_ratio\": 2.6, \"Spring_rate_at_wheel\": 81.36094674556212, \"Spring_rate_at_wheel_normalised_75kg\": 76.27588757396448, \"Energy_at_max_travel\": 813.9019656625001, \"Huck_height_(m)\": 1.72847002561693, \"LabelX\": \"Phil Taylor 550lbs/in\", \"plot_point_size\": 2}, {\"Name\": \"Row Pivot\", \"Discipline\": \"Enduro\", \"Stroke\": 65.0, \"Travel\": 162, \"Spring_rate\": 450, \"Weight\": 62, \"Speed_rating\": 6, \"Motion_ratio\": 2.4923076923076923, \"Spring_rate_at_wheel\": 72.44513031550068, \"Spring_rate_at_wheel_normalised_75kg\": 87.63523828487986, \"Energy_at_max_travel\": 1034.1064479915, \"Huck_height_(m)\": 2.833696272158923, \"LabelX\": \"Row Pivot 450lbs/in\", \"plot_point_size\": 2}, {\"Name\": \"Amy Marin\", \"Discipline\": \"Enduro\", \"Stroke\": 65.0, \"Travel\": 150, \"Spring_rate\": 300, \"Weight\": 65, \"Speed_rating\": 6, \"Motion_ratio\": 2.3076923076923075, \"Spring_rate_at_wheel\": 56.33333333333334, \"Spring_rate_at_wheel_normalised_75kg\": 65.00000000000001, \"Energy_at_max_travel\": 591.053068125, \"Huck_height_(m)\": 1.5448732798165137, \"LabelX\": \"Amy Marin 300lbs/in\", \"plot_point_size\": 2}, {\"Name\": \"Ben Cathro\", \"Discipline\": \"Enduro\", \"Stroke\": 65.0, \"Travel\": 170, \"Spring_rate\": 457, \"Weight\": 90, \"Speed_rating\": 10, \"Motion_ratio\": 2.6153846153846154, \"Spring_rate_at_wheel\": 66.81055363321799, \"Spring_rate_at_wheel_normalised_75kg\": 55.675461361014996, \"Energy_at_max_travel\": 1156.4763239477502, \"Huck_height_(m)\": 2.183101755479575, \"LabelX\": \"Ben Cathro 457lbs/in\", \"plot_point_size\": 2}, {\"Name\": \"Paul Aston Kitsuma Banshee\", \"Discipline\": \"Enduro\", \"Stroke\": 65.0, \"Travel\": 155, \"Spring_rate\": 350, \"Weight\": 75, \"Speed_rating\": 9, \"Motion_ratio\": 2.3846153846153846, \"Spring_rate_at_wheel\": 61.55046826222685, \"Spring_rate_at_wheel_normalised_75kg\": 61.55046826222685, \"Energy_at_max_travel\": 736.298886903125, \"Huck_height_(m)\": 1.6679100394226412, \"LabelX\": \"Paul Aston Kitsuma Banshee 350lbs/in\", \"plot_point_size\": 2}, {\"Name\": \"Paul Aston DHX2 Banshee Legend\", \"Discipline\": \"Enduro\", \"Stroke\": 76.0, \"Travel\": 190, \"Spring_rate\": 375, \"Weight\": 75, \"Speed_rating\": 9, \"Motion_ratio\": 2.5, \"Spring_rate_at_wheel\": 60.0, \"Spring_rate_at_wheel_normalised_75kg\": 60.0, \"Energy_at_max_travel\": 1185.38976440625, \"Huck_height_(m)\": 2.685218630436629, \"LabelX\": \"Paul Aston DHX2 Banshee Legend 375lbs/in\", \"plot_point_size\": 2}, {\"Name\": \"Row Merida\", \"Discipline\": \"Enduro\", \"Stroke\": 65.0, \"Travel\": 150, \"Spring_rate\": 400, \"Weight\": 69, \"Speed_rating\": 6, \"Motion_ratio\": 2.3076923076923075, \"Spring_rate_at_wheel\": 75.11111111111113, \"Spring_rate_at_wheel_normalised_75kg\": 81.64251207729471, \"Energy_at_max_travel\": 788.0707574999999, \"Huck_height_(m)\": 1.9404205446970701, \"LabelX\": \"Row Merida 400lbs/in\", \"plot_point_size\": 2}, {\"Name\": \"Jono Jones Ard Rock\", \"Discipline\": \"Enduro\", \"Stroke\": 55.0, \"Travel\": 160, \"Spring_rate\": 550, \"Weight\": 93, \"Speed_rating\": 10, \"Motion_ratio\": 2.909090909090909, \"Spring_rate_at_wheel\": 64.990234375, \"Spring_rate_at_wheel_normalised_75kg\": 52.411479334677416, \"Energy_at_max_travel\": 1232.8929184, \"Huck_height_(m)\": 2.252278814317919, \"LabelX\": \"Jono Jones Ard Rock 550lbs/in\", \"plot_point_size\": 2}, {\"Name\": \"Steve Pete Ard Rock\", \"Discipline\": \"Enduro\", \"Stroke\": 62.5, \"Travel\": 170, \"Spring_rate\": 600, \"Weight\": 107, \"Speed_rating\": 10, \"Motion_ratio\": 2.72, \"Spring_rate_at_wheel\": 81.098615916955, \"Spring_rate_at_wheel_normalised_75kg\": 56.844824240856305, \"Energy_at_max_travel\": 1518.3496594500002, \"Huck_height_(m)\": 2.410836516000267, \"LabelX\": \"Steve Pete Ard Rock 600lbs/in\", \"plot_point_size\": 2}, {\"Name\": \"Bill Arbr\", \"Discipline\": \"Enduro\", \"Stroke\": 65.0, \"Travel\": 160, \"Spring_rate\": 480, \"Weight\": 78, \"Speed_rating\": 6, \"Motion_ratio\": 2.4615384615384617, \"Spring_rate_at_wheel\": 79.21874999999999, \"Spring_rate_at_wheel_normalised_75kg\": 76.17187499999999, \"Energy_at_max_travel\": 1075.97927424, \"Huck_height_(m)\": 2.3436299830105334, \"LabelX\": \"Bill Arbr 480lbs/in\", \"plot_point_size\": 2}], \"data-1b35a5c60130d7d671f3e8441eaffa5a\": [{\"Discipline\": \"Entered data\", \"Name\": \"Jane Doe\", \"Stroke\": 63, \"Travel\": 160, \"Spring_rate\": 434, \"Weight\": 80, \"Speed_rating\": 5, \"Motion_ratio\": 2.5396825396825395, \"Spring_rate_at_wheel\": 67.28695312500001, \"Spring_rate_at_wheel_normalised_75kg\": 63.08151855468751, \"Energy_at_max_travel\": 972.864593792, \"Huck_height_(m)\": 2.0660563068977233, \"LabelX\": \"Jane Doe 434lbs/in\", \"plot_point_size\": 3}], \"data-9eca739eae8d842e0718247e0390b35b\": [{\"Name\": \"Matt Radon\", \"Discipline\": \"DH\", \"Stroke\": 76.0, \"Travel\": 200, \"Spring_rate\": 450, \"Weight\": 72, \"Speed_rating\": 6, \"Motion_ratio\": 2.6315789473684212, \"Spring_rate_at_wheel\": 64.97999999999999, \"Spring_rate_at_wheel_normalised_75kg\": 67.68749999999999, \"Energy_at_max_travel\": 1576.1415150000005, \"Huck_height_(m)\": 3.719139377336053, \"LabelX\": \"Matt Radon 450lbs/in\", \"plot_point_size\": 2}, {\"Name\": \"Matt Dissent\", \"Discipline\": \"DH\", \"Stroke\": 70.0, \"Travel\": 190, \"Spring_rate\": 450, \"Weight\": 72, \"Speed_rating\": 6, \"Motion_ratio\": 2.7142857142857144, \"Spring_rate_at_wheel\": 61.08033240997229, \"Spring_rate_at_wheel_normalised_75kg\": 63.6253462603878, \"Energy_at_max_travel\": 1422.4677172875001, \"Huck_height_(m)\": 3.3565232880457874, \"LabelX\": \"Matt Dissent 450lbs/in\", \"plot_point_size\": 2}, {\"Name\": \"Matt Dissent\", \"Discipline\": \"DH\", \"Stroke\": 70.0, \"Travel\": 190, \"Spring_rate\": 500, \"Weight\": 72, \"Speed_rating\": 6, \"Motion_ratio\": 2.7142857142857144, \"Spring_rate_at_wheel\": 67.86703601108033, \"Spring_rate_at_wheel_normalised_75kg\": 70.69482917820868, \"Energy_at_max_travel\": 1580.5196858749998, \"Huck_height_(m)\": 3.729470320050874, \"LabelX\": \"Matt Dissent 500lbs/in\", \"plot_point_size\": 2}, {\"Name\": \"John Sender\", \"Discipline\": \"DH\", \"Stroke\": 75.0, \"Travel\": 200, \"Spring_rate\": 400, \"Weight\": 75, \"Speed_rating\": 6, \"Motion_ratio\": 2.6666666666666665, \"Spring_rate_at_wheel\": 56.25, \"Spring_rate_at_wheel_normalised_75kg\": 56.25, \"Energy_at_max_travel\": 1401.0146800000002, \"Huck_height_(m)\": 3.173665601993431, \"LabelX\": \"John Sender 400lbs/in\", \"plot_point_size\": 2}, {\"Name\": \"Bill Orange DH\", \"Discipline\": \"DH\", \"Stroke\": 76.0, \"Travel\": 190, \"Spring_rate\": 425, \"Weight\": 78, \"Speed_rating\": 6, \"Motion_ratio\": 2.5, \"Spring_rate_at_wheel\": 68.0, \"Spring_rate_at_wheel_normalised_75kg\": 65.38461538461539, \"Energy_at_max_travel\": 1343.4417329937498, \"Huck_height_(m)\": 2.926199789578378, \"LabelX\": \"Bill Orange DH 425lbs/in\", \"plot_point_size\": 2}, {\"Name\": \"Mark Vitus Dominer\", \"Discipline\": \"DH\", \"Stroke\": 70.0, \"Travel\": 200, \"Spring_rate\": 425, \"Weight\": 75, \"Speed_rating\": 6, \"Motion_ratio\": 2.857142857142857, \"Spring_rate_at_wheel\": 52.0625, \"Spring_rate_at_wheel_normalised_75kg\": 52.0625, \"Energy_at_max_travel\": 1488.5780975000002, \"Huck_height_(m)\": 3.3720197021180205, \"LabelX\": \"Mark Vitus Dominer 425lbs/in\", \"plot_point_size\": 2}, {\"Name\": \"Row Kona\", \"Discipline\": \"DH\", \"Stroke\": 70.0, \"Travel\": 196, \"Spring_rate\": 450, \"Weight\": 62, \"Speed_rating\": 6, \"Motion_ratio\": 2.8, \"Spring_rate_at_wheel\": 57.39795918367348, \"Spring_rate_at_wheel_normalised_75kg\": 69.43301514154051, \"Energy_at_max_travel\": 1513.7263110060003, \"Huck_height_(m)\": 4.147968144766698, \"LabelX\": \"Row Kona 450lbs/in\", \"plot_point_size\": 2}, {\"Name\": \"Amy Gambler\", \"Discipline\": \"DH\", \"Stroke\": 89.0, \"Travel\": 210, \"Spring_rate\": 300, \"Weight\": 65, \"Speed_rating\": 6, \"Motion_ratio\": 2.359550561797753, \"Spring_rate_at_wheel\": 53.884353741496604, \"Spring_rate_at_wheel_normalised_75kg\": 62.17425431711147, \"Energy_at_max_travel\": 1158.4640135249997, \"Huck_height_(m)\": 3.027951628440366, \"LabelX\": \"Amy Gambler 300lbs/in\", \"plot_point_size\": 2}, {\"Name\": \"Lizzie Kenevo\", \"Discipline\": \"DH\", \"Stroke\": 63.0, \"Travel\": 180, \"Spring_rate\": 457, \"Weight\": 63, \"Speed_rating\": 6, \"Motion_ratio\": 2.857142857142857, \"Spring_rate_at_wheel\": 55.9825, \"Spring_rate_at_wheel_normalised_75kg\": 66.64583333333333, \"Energy_at_max_travel\": 1296.5340102389998, \"Huck_height_(m)\": 3.496416059196155, \"LabelX\": \"Lizzie Kenevo 457lbs/in\", \"plot_point_size\": 2}, {\"Name\": \"Matt Zesty\", \"Discipline\": \"Enduro\", \"Stroke\": 57.0, \"Travel\": 150, \"Spring_rate\": 450, \"Weight\": 72, \"Speed_rating\": 6, \"Motion_ratio\": 2.6315789473684212, \"Spring_rate_at_wheel\": 64.97999999999999, \"Spring_rate_at_wheel_normalised_75kg\": 67.68749999999999, \"Energy_at_max_travel\": 886.5796021875, \"Huck_height_(m)\": 2.0920158997515292, \"LabelX\": \"Matt Zesty 450lbs/in\", \"plot_point_size\": 2}, {\"Name\": \"Matt Bird\", \"Discipline\": \"Enduro\", \"Stroke\": 65.0, \"Travel\": 160, \"Spring_rate\": 450, \"Weight\": 72, \"Speed_rating\": 6, \"Motion_ratio\": 2.4615384615384617, \"Spring_rate_at_wheel\": 74.26757812499999, \"Spring_rate_at_wheel_normalised_75kg\": 77.36206054687499, \"Energy_at_max_travel\": 1008.7305696000001, \"Huck_height_(m)\": 2.3802492014950736, \"LabelX\": \"Matt Bird 450lbs/in\", \"plot_point_size\": 2}, {\"Name\": \"Matt Bird\", \"Discipline\": \"Enduro\", \"Stroke\": 65.0, \"Travel\": 160, \"Spring_rate\": 400, \"Weight\": 72, \"Speed_rating\": 6, \"Motion_ratio\": 2.4615384615384617, \"Spring_rate_at_wheel\": 66.01562499999999, \"Spring_rate_at_wheel_normalised_75kg\": 68.76627604166666, \"Energy_at_max_travel\": 896.6493952, \"Huck_height_(m)\": 2.1157770679956207, \"LabelX\": \"Matt Bird 400lbs/in\", \"plot_point_size\": 2}, {\"Name\": \"John Whyte G160\", \"Discipline\": \"Enduro\", \"Stroke\": 63.0, \"Travel\": 160, \"Spring_rate\": 450, \"Weight\": 75, \"Speed_rating\": 6, \"Motion_ratio\": 2.5396825396825395, \"Spring_rate_at_wheel\": 69.76757812500001, \"Spring_rate_at_wheel_normalised_75kg\": 69.76757812500001, \"Energy_at_max_travel\": 1008.7305696000001, \"Huck_height_(m)\": 2.28503923343527, \"LabelX\": \"John Whyte G160 450lbs/in\", \"plot_point_size\": 2}, {\"Name\": \"John Meta\", \"Discipline\": \"Enduro\", \"Stroke\": 62.5, \"Travel\": 160, \"Spring_rate\": 350, \"Weight\": 75, \"Speed_rating\": 6, \"Motion_ratio\": 2.56, \"Spring_rate_at_wheel\": 53.40576171875, \"Spring_rate_at_wheel_normalised_75kg\": 53.40576171875, \"Energy_at_max_travel\": 784.5682208, \"Huck_height_(m)\": 1.777252737116321, \"LabelX\": \"John Meta 350lbs/in\", \"plot_point_size\": 2}, {\"Name\": \"Bill Nuke\", \"Discipline\": \"Enduro\", \"Stroke\": 63.0, \"Travel\": 160, \"Spring_rate\": 500, \"Weight\": 78, \"Speed_rating\": 6, \"Motion_ratio\": 2.5396825396825395, \"Spring_rate_at_wheel\": 77.51953125000001, \"Spring_rate_at_wheel_normalised_75kg\": 74.53801081730771, \"Energy_at_max_travel\": 1120.811744, \"Huck_height_(m)\": 2.4412812323026394, \"LabelX\": \"Bill Nuke 500lbs/in\", \"plot_point_size\": 2}, {\"Name\": \"Bill Arbr\", \"Discipline\": \"Enduro\", \"Stroke\": 65.0, \"Travel\": 160, \"Spring_rate\": 434, \"Weight\": 78, \"Speed_rating\": 6, \"Motion_ratio\": 2.4615384615384617, \"Spring_rate_at_wheel\": 71.62695312499999, \"Spring_rate_at_wheel_normalised_75kg\": 68.87207031249999, \"Energy_at_max_travel\": 972.864593792, \"Huck_height_(m)\": 2.119032109638691, \"LabelX\": \"Bill Arbr 434lbs/in\", \"plot_point_size\": 2}, {\"Name\": \"Mark Arbr\", \"Discipline\": \"Enduro\", \"Stroke\": 65.0, \"Travel\": 160, \"Spring_rate\": 475, \"Weight\": 75, \"Speed_rating\": 6, \"Motion_ratio\": 2.4615384615384617, \"Spring_rate_at_wheel\": 78.39355468749999, \"Spring_rate_at_wheel_normalised_75kg\": 78.39355468749999, \"Energy_at_max_travel\": 1064.7711568, \"Huck_height_(m)\": 2.411985857515007, \"LabelX\": \"Mark Arbr 475lbs/in\", \"plot_point_size\": 2}, {\"Name\": \"Phil Taylor\", \"Discipline\": \"Enduro\", \"Stroke\": 50.0, \"Travel\": 130, \"Spring_rate\": 550, \"Weight\": 80, \"Speed_rating\": 6, \"Motion_ratio\": 2.6, \"Spring_rate_at_wheel\": 81.36094674556212, \"Spring_rate_at_wheel_normalised_75kg\": 76.27588757396448, \"Energy_at_max_travel\": 813.9019656625001, \"Huck_height_(m)\": 1.72847002561693, \"LabelX\": \"Phil Taylor 550lbs/in\", \"plot_point_size\": 2}, {\"Name\": \"Row Pivot\", \"Discipline\": \"Enduro\", \"Stroke\": 65.0, \"Travel\": 162, \"Spring_rate\": 450, \"Weight\": 62, \"Speed_rating\": 6, \"Motion_ratio\": 2.4923076923076923, \"Spring_rate_at_wheel\": 72.44513031550068, \"Spring_rate_at_wheel_normalised_75kg\": 87.63523828487986, \"Energy_at_max_travel\": 1034.1064479915, \"Huck_height_(m)\": 2.833696272158923, \"LabelX\": \"Row Pivot 450lbs/in\", \"plot_point_size\": 2}, {\"Name\": \"Amy Marin\", \"Discipline\": \"Enduro\", \"Stroke\": 65.0, \"Travel\": 150, \"Spring_rate\": 300, \"Weight\": 65, \"Speed_rating\": 6, \"Motion_ratio\": 2.3076923076923075, \"Spring_rate_at_wheel\": 56.33333333333334, \"Spring_rate_at_wheel_normalised_75kg\": 65.00000000000001, \"Energy_at_max_travel\": 591.053068125, \"Huck_height_(m)\": 1.5448732798165137, \"LabelX\": \"Amy Marin 300lbs/in\", \"plot_point_size\": 2}, {\"Name\": \"Ben Cathro\", \"Discipline\": \"Enduro\", \"Stroke\": 65.0, \"Travel\": 170, \"Spring_rate\": 457, \"Weight\": 90, \"Speed_rating\": 10, \"Motion_ratio\": 2.6153846153846154, \"Spring_rate_at_wheel\": 66.81055363321799, \"Spring_rate_at_wheel_normalised_75kg\": 55.675461361014996, \"Energy_at_max_travel\": 1156.4763239477502, \"Huck_height_(m)\": 2.183101755479575, \"LabelX\": \"Ben Cathro 457lbs/in\", \"plot_point_size\": 2}, {\"Name\": \"Paul Aston Kitsuma Banshee\", \"Discipline\": \"Enduro\", \"Stroke\": 65.0, \"Travel\": 155, \"Spring_rate\": 350, \"Weight\": 75, \"Speed_rating\": 9, \"Motion_ratio\": 2.3846153846153846, \"Spring_rate_at_wheel\": 61.55046826222685, \"Spring_rate_at_wheel_normalised_75kg\": 61.55046826222685, \"Energy_at_max_travel\": 736.298886903125, \"Huck_height_(m)\": 1.6679100394226412, \"LabelX\": \"Paul Aston Kitsuma Banshee 350lbs/in\", \"plot_point_size\": 2}, {\"Name\": \"Paul Aston DHX2 Banshee Legend\", \"Discipline\": \"Enduro\", \"Stroke\": 76.0, \"Travel\": 190, \"Spring_rate\": 375, \"Weight\": 75, \"Speed_rating\": 9, \"Motion_ratio\": 2.5, \"Spring_rate_at_wheel\": 60.0, \"Spring_rate_at_wheel_normalised_75kg\": 60.0, \"Energy_at_max_travel\": 1185.38976440625, \"Huck_height_(m)\": 2.685218630436629, \"LabelX\": \"Paul Aston DHX2 Banshee Legend 375lbs/in\", \"plot_point_size\": 2}, {\"Name\": \"Row Merida\", \"Discipline\": \"Enduro\", \"Stroke\": 65.0, \"Travel\": 150, \"Spring_rate\": 400, \"Weight\": 69, \"Speed_rating\": 6, \"Motion_ratio\": 2.3076923076923075, \"Spring_rate_at_wheel\": 75.11111111111113, \"Spring_rate_at_wheel_normalised_75kg\": 81.64251207729471, \"Energy_at_max_travel\": 788.0707574999999, \"Huck_height_(m)\": 1.9404205446970701, \"LabelX\": \"Row Merida 400lbs/in\", \"plot_point_size\": 2}, {\"Name\": \"Jono Jones Ard Rock\", \"Discipline\": \"Enduro\", \"Stroke\": 55.0, \"Travel\": 160, \"Spring_rate\": 550, \"Weight\": 93, \"Speed_rating\": 10, \"Motion_ratio\": 2.909090909090909, \"Spring_rate_at_wheel\": 64.990234375, \"Spring_rate_at_wheel_normalised_75kg\": 52.411479334677416, \"Energy_at_max_travel\": 1232.8929184, \"Huck_height_(m)\": 2.252278814317919, \"LabelX\": \"Jono Jones Ard Rock 550lbs/in\", \"plot_point_size\": 2}, {\"Name\": \"Steve Pete Ard Rock\", \"Discipline\": \"Enduro\", \"Stroke\": 62.5, \"Travel\": 170, \"Spring_rate\": 600, \"Weight\": 107, \"Speed_rating\": 10, \"Motion_ratio\": 2.72, \"Spring_rate_at_wheel\": 81.098615916955, \"Spring_rate_at_wheel_normalised_75kg\": 56.844824240856305, \"Energy_at_max_travel\": 1518.3496594500002, \"Huck_height_(m)\": 2.410836516000267, \"LabelX\": \"Steve Pete Ard Rock 600lbs/in\", \"plot_point_size\": 2}, {\"Name\": \"Bill Arbr\", \"Discipline\": \"Enduro\", \"Stroke\": 65.0, \"Travel\": 160, \"Spring_rate\": 480, \"Weight\": 78, \"Speed_rating\": 6, \"Motion_ratio\": 2.4615384615384617, \"Spring_rate_at_wheel\": 79.21874999999999, \"Spring_rate_at_wheel_normalised_75kg\": 76.17187499999999, \"Energy_at_max_travel\": 1075.97927424, \"Huck_height_(m)\": 2.3436299830105334, \"LabelX\": \"Bill Arbr 480lbs/in\", \"plot_point_size\": 2}, {\"Name\": \"Jane Doe\", \"Discipline\": \"Entered data\", \"Stroke\": 63.0, \"Travel\": 160, \"Spring_rate\": 434, \"Weight\": 80, \"Speed_rating\": 5, \"Motion_ratio\": 2.5396825396825395, \"Spring_rate_at_wheel\": 67.28695312500001, \"Spring_rate_at_wheel_normalised_75kg\": 63.08151855468751, \"Energy_at_max_travel\": 972.864593792, \"Huck_height_(m)\": 2.0660563068977233, \"LabelX\": \"Jane Doe 434lbs/in\", \"plot_point_size\": 3}]}}, {\"mode\": \"vega-lite\"});\n",
       "</script>"
      ],
      "text/plain": [
       "alt.LayerChart(...)"
      ]
     },
     "execution_count": 24,
     "metadata": {},
     "output_type": "execute_result"
    }
   ],
   "source": [
    "charts2"
   ]
  },
  {
   "cell_type": "markdown",
   "metadata": {},
   "source": [
    "<font size=\"4\">\n",
    "Definitions: </font>\n",
    "\n",
    "\n",
    "motion_ratio(travel, stroke):\n",
    "    return travel/stroke\n",
    "\n",
    "spring_rate_at_wheel(spring, motion_ratio):\n",
    "    return spring/(motion_ratio**2)\n",
    "\n",
    "spring_rate_at_wheel_normlaised_75kg(spring_rate_at_wheel, weight):\n",
    "    return spring_rate_at_wheel*75/weight\n",
    "\n",
    "energy_at_max_travel(spring_rate, travel):\n",
    "    return 0.5*(spring_rate*175.126835)*((travel/1000)**2)\n",
    "\n",
    "Huck_height is the height you could drop rider and bike from and all energy be contained in spring without bottoming out (assumes 60% of weight on rear wheel):\n",
    "huck_height(energy_at_max_travel, weight):\n",
    "    return energy_at_max_travel/(0.6*weight*9.81)\n",
    "\n",
    "Any questions, please email mulholland.william@gmail.com with the subject: Coil spring rate comparisons.\n",
    "\n",
    "If this page is of more than fleeting interest, please consider donating to the air ambulance service: https://theairambulanceservice.org.uk\n",
    "\n",
    " </font>"
   ]
  },
  {
   "cell_type": "code",
   "execution_count": null,
   "metadata": {},
   "outputs": [],
   "source": []
  },
  {
   "cell_type": "code",
   "execution_count": null,
   "metadata": {},
   "outputs": [],
   "source": []
  }
 ],
 "metadata": {
  "kernelspec": {
   "display_name": "Python 3 (ipykernel)",
   "language": "python",
   "name": "python3"
  },
  "language_info": {
   "codemirror_mode": {
    "name": "ipython",
    "version": 3
   },
   "file_extension": ".py",
   "mimetype": "text/x-python",
   "name": "python",
   "nbconvert_exporter": "python",
   "pygments_lexer": "ipython3",
   "version": "3.11.4"
  }
 },
 "nbformat": 4,
 "nbformat_minor": 4
}
